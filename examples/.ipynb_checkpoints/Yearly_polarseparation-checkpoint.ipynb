{
 "cells": [
  {
   "cell_type": "code",
   "execution_count": 1,
   "id": "6b8dc745",
   "metadata": {},
   "outputs": [],
   "source": [
    "## generate pole separation across years\n",
    "#creed2_/GSS/Qnets\n",
    "import os\n",
    "import matplotlib.pyplot as plt\n",
    "import collections\n",
    "import seaborn as sns \n",
    "import pandas as pd\n",
    "import numpy as np\n",
    "from cognet.cognet import cognet as cg\n",
    "from cognet.dataFormatter import dataFormatter\n",
    "from cognet.model import model \n",
    "\n",
    "# get years \n",
    "features_by_year = pd.read_csv('examples_data/features_by_year_GSS.csv',\n",
    "                               keep_default_na=True, \n",
    "                               index_col=False)\n",
    "POLEFILE='examples_data/polar_vectors.csv'\n",
    "qnets_by_year = {x[-11:-7]: x for x in os.listdir('../../creed2_/GSS/Qnets/')}\n",
    "data_by_year = {x[4:8]: x for x in os.listdir('../../creed2_/GSS/data/processed_data')}\n",
    "polarDist_by_year = {}"
   ]
  },
  {
   "cell_type": "code",
   "execution_count": null,
   "id": "97741b03",
   "metadata": {},
   "outputs": [
    {
     "name": "stdout",
     "output_type": "stream",
     "text": [
      "updating\n",
      "13 pole features not found in sample features\n",
      "updating\n",
      "17 pole features not found in sample features\n",
      "updating\n",
      "11 pole features not found in sample features\n",
      "updating\n",
      "19 pole features not found in sample features\n",
      "updating\n",
      "4 pole features not found in sample features\n",
      "updating\n",
      "26 pole features not found in sample features\n",
      "updating\n",
      "29 pole features not found in sample features\n",
      "updating\n",
      "13 pole features not found in sample features\n",
      "updating\n",
      "12 pole features not found in sample features\n",
      "updating\n",
      "13 pole features not found in sample features\n",
      "updating\n",
      "10 pole features not found in sample features\n",
      "updating\n",
      "18 pole features not found in sample features\n",
      "updating\n",
      "19 pole features not found in sample features\n",
      "updating\n",
      "9 pole features not found in sample features\n",
      "updating\n",
      "23 pole features not found in sample features\n",
      "updating\n",
      "28 pole features not found in sample features\n",
      "updating\n",
      "12 pole features not found in sample features\n",
      "updating\n"
     ]
    }
   ],
   "source": [
    "for year, qnet in qnets_by_year.items():\n",
    "    qnet = '../../creed2_/GSS/Qnets/' + qnet\n",
    "    data_obj=dataFormatter('../../creed2_/GSS/data/processed_data/'+data_by_year[year])\n",
    "    model_obj = model()\n",
    "    model_obj.load(qnet)\n",
    "    cognet_obj = cg()\n",
    "    cognet_obj.load_from_model(model_obj, data_obj, 'all')\n",
    "\n",
    "    # produce stats on how many column names actually match\n",
    "    stats = cognet_obj.set_poles(POLEFILE,\"R\",\"L\",steps=120)\n",
    "\n",
    "    # compute polar distance matrix\n",
    "    dmatrix = cognet_obj.polar_separation(nsteps=0)\n",
    "    polarDist_by_year[year]=dmatrix[0][1]\n",
    "polarDist_by_year"
   ]
  },
  {
   "cell_type": "code",
   "execution_count": null,
   "id": "bc34a087",
   "metadata": {},
   "outputs": [],
   "source": [
    "sorted_dist = collections.OrderedDict(sorted(polarDist_by_year.items()))\n",
    "df = pd.DataFrame.from_dict(sorted_dist, orient='index')\n",
    "df.reset_index(level=0, inplace=True)\n",
    "df.columns = ['year', 'dist']\n",
    "\n",
    "sns.set(style='darkgrid', rc={'figure.figsize':(20, 8)})\n",
    "sns.lineplot(x='year', y='dist', data=df)\n",
    "    \n",
    "# year = list(sorted_dist.keys())\n",
    "# dist = list(sorted_dist.values())     \n",
    "# plt.plot(year, dist)\n",
    "# plt.show"
   ]
  }
 ],
 "metadata": {
  "kernelspec": {
   "display_name": "qnet-dev",
   "language": "python",
   "name": "qnet-dev"
  },
  "language_info": {
   "codemirror_mode": {
    "name": "ipython",
    "version": 3
   },
   "file_extension": ".py",
   "mimetype": "text/x-python",
   "name": "python",
   "nbconvert_exporter": "python",
   "pygments_lexer": "ipython3",
   "version": "3.7.0"
  }
 },
 "nbformat": 4,
 "nbformat_minor": 5
}
