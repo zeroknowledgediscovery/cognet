{
 "cells": [
  {
   "cell_type": "code",
   "execution_count": 3,
   "metadata": {},
   "outputs": [],
   "source": [
    "# This is an example of how we see \n",
    "# the package work. The functions listed here\n",
    "# are probably the only ones that should be exposed, ie documented.\n",
    "# others should br prepended with a double underscore\n",
    "#  \n",
    "# The cognet directory has the following \"modules\"\n",
    "# which are seprate .py files containing clases and functions\n",
    "# The modules are cognet.py, dataFormatter.py, model.py, util.py, viz.py\n",
    "# we will write the viz.py later.\n",
    "import sys\n",
    "\n",
    "from quasinet.qnet import qdistance\n",
    "from cognet.cognet import cognet as cg\n",
    "from cognet.dataFormatter import dataFormatter\n",
    "from cognet.model import model \n",
    "#import cognet.util\n",
    "import pandas as pd\n",
    "import numpy as np\n",
    "\n",
    "yr = '2018'\n",
    "POLEFILE='GSS/data/polar_vectors.csv'\n",
    "QPATH='GSS/data/gss_'+yr+'.joblib'\n",
    "IMMUTABLE_FILE='GSS/data/immutable.csv'\n",
    "GSSDATA = 'GSS/data/gss_'+yr+'.csv'"
   ]
  },
  {
   "cell_type": "code",
   "execution_count": 31,
   "metadata": {},
   "outputs": [
    {
     "name": "stdout",
     "output_type": "stream",
     "text": [
      "            wrkstat HRS1 HRS2 evwork        wrkslf  wrkgovt OCC10 PRESTG10  \\\n",
      "0  temp not working    e    c    NaN  someone else  private     b        c   \n",
      "1  working fulltime    c    e    NaN  someone else  private     b        d   \n",
      "\n",
      "  PRESTG105PLUS INDUS10  ...    neisafe rlooks rgroomed rweight rhlthend wtss  \\\n",
      "0             c       c  ...  very safe    NaN      NaN     NaN      NaN    e   \n",
      "1             d       c  ...  very safe    NaN      NaN     NaN      NaN    c   \n",
      "\n",
      "  wtssnr wtssall vstrat vpsu  \n",
      "0      e       e   3301    1  \n",
      "1      c       c   3301    1  \n",
      "\n",
      "[2 rows x 1034 columns]\n",
      "(1784, 1034)\n"
     ]
    }
   ],
   "source": [
    "# testing dataFormatter\n",
    "data = dataFormatter(samples=GSSDATA)\n",
    "# load the sample data\n",
    "# have option for test/train split\n",
    "# make checks to ensure we will not throw errors at qnet construction \n",
    "print(data.samples[:2])\n",
    "features,samples = data.format_samples('train') # default trains and tests using half\n",
    "all_samples = True\n",
    "if all_samples: # use all samples to train, instead of half\n",
    "    features,samples = data.Qnet_formatter()\n",
    "\n",
    "# format data for Qnet training and fitting\n",
    "print(samples.shape)\n",
    "\n",
    "# set mutable and immutable vars either from list or file\n",
    "im_vars_df = pd.read_csv(IMMUTABLE_FILE, names=['vars'])\n",
    "im_vars_list = im_vars_df.vars.to_list()\n",
    "mutable_vars, immutable_vars = data.mutable_variables(immutable_list=im_vars_list)\n",
    "mutable_vars, immutable_vars = data.mutable_variables(IMMUTABLE_FILE=IMMUTABLE_FILE)"
   ]
  },
  {
   "cell_type": "code",
   "execution_count": 5,
   "metadata": {
    "tags": []
   },
   "outputs": [],
   "source": [
    "# testing model functionality\n",
    "# can either input features and samples directly, or infer from data obj\n",
    "model_ = model()\n",
    "\n",
    "# qnet construction parameters, \n",
    "# choose to either load or fit qnet from scratch\n",
    "# and to either load from url or local repo\n",
    "test_model_buildqnet = False\n",
    "url_load = True\n",
    "if test_model_buildqnet:\n",
    "        print(\"fitting\")\n",
    "        model_.fit(data_obj=data,\n",
    "                   min_samples_split=2,\n",
    "                   alpha=0.05,\n",
    "                   max_depth=-1,\n",
    "                   max_feats=-1,\n",
    "                   early_stopping=False,\n",
    "                   verbose=0,\n",
    "                   random_state=None,\n",
    "                   njobs=8)\n",
    "        print(\"fitted\")\n",
    "        model_.export_dot(\"GSS/results/tmp_dot_modelclass.dot\",\n",
    "                        generate_trees=True)\n",
    "        model_.save(\"GSS/results/tmp_nodelclass.joblib\")\n",
    "        #model_.load(\"tmp_nodelclass.joblib\")\n",
    "else:\n",
    "    if url_load:\n",
    "        QNETFILE = 'https://zenodo.org/record/5781768/files/gss_2018.joblib'\n",
    "    else:\n",
    "        QNETFILE = 'GSS/data/gss_2018.joblib'\n",
    "    model_.load(QNETFILE)"
   ]
  },
  {
   "cell_type": "code",
   "execution_count": 32,
   "metadata": {},
   "outputs": [
    {
     "name": "stdout",
     "output_type": "stream",
     "text": [
      "1034\n"
     ]
    }
   ],
   "source": [
    "# testing cognet\n",
    "# set some paramaters in instantiating cognet class \n",
    "# if loading from model obj, no need to use load_data func, otherwise, load_data\n",
    "Cg = cg()\n",
    "print(len(model_.features))\n",
    "Cg.load_from_model(model_, data, 'all')"
   ]
  },
  {
   "cell_type": "code",
   "execution_count": 7,
   "metadata": {},
   "outputs": [
    {
     "name": "stdout",
     "output_type": "stream",
     "text": [
      "class-computed distance: 0.10929099693326938\n",
      "actual:0.10911136102697075\n"
     ]
    }
   ],
   "source": [
    "# distance calculation for individual samples    \n",
    "# we have a nsteps parameter (for sample 1 and sample2)\n",
    "# which qsamples the sample1 and sample2 if set before\n",
    "# computing distance. Note qsampling must only \n",
    "# change mutable varaibles, so need to compute base-freq\n",
    "distance = Cg.distance(samples[1],samples[3],nsteps1=5, nsteps2=5)\n",
    "print(\"class-computed distance:\", distance)\n",
    "qdistance_ = qdistance(samples[1],samples[3],Cg.qnet,Cg.qnet)\n",
    "print(\"actual:{}\".format(qdistance_))"
   ]
  },
  {
   "cell_type": "code",
   "execution_count": 9,
   "metadata": {},
   "outputs": [
    {
     "name": "stdout",
     "output_type": "stream",
     "text": [
      "4 pole features not found in sample features\n"
     ]
    }
   ],
   "source": [
    "# produce stats on how many column names actually match\n",
    "stats = Cg.set_poles(POLEFILE,\"R\",\"L\",steps=120, VERBOSE=True)\n",
    "\n",
    "# compute polar distance matrix\n",
    "dmatrix = Cg.polar_separation(nsteps=0)"
   ]
  },
  {
   "cell_type": "code",
   "execution_count": 35,
   "metadata": {},
   "outputs": [
    {
     "name": "stdout",
     "output_type": "stream",
     "text": [
      "distance calculations\n",
      "class-computed distance: 0.10533663368244225\n",
      "actual:0.10533663368244225\n"
     ]
    }
   ],
   "source": [
    "# distance calculation for individual samples after setting poles\n",
    "print(\"distance calculations\")\n",
    "distance = Cg.distance(Cg.samples.fillna('').values.astype(str)[3],Cg.samples.iloc[5].values.astype(str),nsteps1=0, nsteps2=0)\n",
    "print(\"class-computed distance:\", distance)\n",
    "qdistance_ = qdistance(samples[3],samples[5],Cg.qnet,Cg.qnet)\n",
    "print(\"actual:{}\".format(qdistance_))"
   ]
  },
  {
   "cell_type": "code",
   "execution_count": 7,
   "metadata": {
    "scrolled": true
   },
   "outputs": [
    {
     "name": "stdout",
     "output_type": "stream",
     "text": [
      "dissonance: [0. 0. 0. ... 0. 0. 0.]\n",
      "reconstruction results: 66.80881646121489 0.2919753086419753 0.591950775163615\n",
      "ideology: [0.04298189391629631, 0.09135036761482512, 0.08615011059018973, 0.12098715414361363]\n",
      "Dispersion: [0.047121043506798854, 0.12700043074314818]\n",
      "distance from poles: [0.021635271857159282, 0.022334688414062873]\n"
     ]
    }
   ],
   "source": [
    "#------------------\n",
    "# the following are for single samples\n",
    "\n",
    "# dissonance\n",
    "dissonance_array = Cg.dissonance(1)\n",
    "print(\"dissonance:\", dissonance_array)\n",
    "\n",
    "#ideology\n",
    "Cg.num_qsamples = 5\n",
    "ideology_index = Cg.ideology(3,pole_1=\"R\",pole_2=\"L\")\n",
    "print(\"ideology:\", ideology_index)\n",
    "\n",
    "# disperion\n",
    "dispersion_ = Cg.dispersion(3)\n",
    "print(\"Dispersion:\", dispersion_)\n",
    "\n",
    "# compute distance from each pole\n",
    "array_distances = Cg.polarDistance(1, returndict)\n",
    "print(\"distance from poles:\", array_distances)\n",
    "\n",
    "# random mask and reconstruction\n",
    "returndict = {}\n",
    "rederr,r_prob,rand_err,s,qs,s_rand,mask_ = Cg.randomMaskReconstruction(index=1, \n",
    "                                                                       return_dict=returndict,\n",
    "                                                                       index_colname=\"feature_names\",\n",
    "                                                                       output_dir=\"GSS/results/recon_results/\",\n",
    "                                                                       file_name=\"recon_tmp.csv\",\n",
    "                                                                       save_samples=True)# sample=np.array(samples[1]))\n",
    "print(\"reconstruction results:\", rederr, r_prob, rand_err)\n",
    "#-------------------"
   ]
  },
  {
   "cell_type": "code",
   "execution_count": null,
   "metadata": {
    "scrolled": true
   },
   "outputs": [],
   "source": [
    "# the following are for arrays of samples\n",
    "# multiprocessing suffices\n",
    "\n",
    "# set sammple sizeN\n",
    "Cg.set_nsamples(40)\n",
    "    \n",
    "# computing polar_indices makes sure that dissonance matrix only takes in polar cols\n",
    "Cg.compute_polar_indices()\n",
    "dissonance_array = Cg.dissonance_matrix(outfile='GSS/results/DISSONANCE_matrix.csv')\n",
    "print(\"dissonance array:\", dissonance_array[:2])\n",
    "print('----------------------------------------------------------------------\\n')\n",
    "\n",
    "# random mask and reconstruction\n",
    "recon_df = Cg.randomMaskReconstruction_multiple('GSS/results/randomMaskRecon_test.csv')\n",
    "print(\"reconstruction results\", recon_df[:2])\n",
    "print('----------------------------------------------------------------------\\n')\n",
    "\n",
    "# ideology indices\n",
    "ideology_index = Cg.compute_DLI_samples('ideology','GSS/results/ideology.csv')\n",
    "print(\"ideology indices\", ideology_index)\n",
    "print('----------------------------------------------------------------------\\n')\n",
    "\n",
    "# dispersion\n",
    "local_dispersion = Cg.compute_DLI_samples('dispersion', 'GSS/results/dispersion_test.csv')\n",
    "print(\"dispersion array\", local_dispersion)\n",
    "print('----------------------------------------------------------------------\\n')\n",
    "\n",
    "# polar distances\n",
    "polar_array = Cg.polarDistance_multiple('GSS/results/polarDistance_multiple_test.csv')\n",
    "print(\"polar distances array\",polar_array)\n",
    "print('----------------------------------------------------------------------\\n')"
   ]
  },
  {
   "cell_type": "code",
   "execution_count": 10,
   "metadata": {},
   "outputs": [
    {
     "name": "stdout",
     "output_type": "stream",
     "text": [
      "Number of Processes 2 has been set using class parameter\n",
      "          0         1         2         3         4         5         6   \\\n",
      "0   0.000000  0.091232  0.134658  0.113836  0.086175  0.120154  0.079885   \n",
      "1   0.091232  0.000000  0.108381  0.114186  0.079264  0.085646  0.086029   \n",
      "2   0.134658  0.108381  0.000000  0.129788  0.120588  0.076976  0.130525   \n",
      "3   0.113836  0.114186  0.129788  0.000000  0.109474  0.105337  0.127201   \n",
      "4   0.086175  0.079264  0.120588  0.109474  0.000000  0.101664  0.093314   \n",
      "5   0.120154  0.085646  0.076976  0.105337  0.101664  0.000000  0.115825   \n",
      "6   0.079885  0.086029  0.130525  0.127201  0.093314  0.115825  0.000000   \n",
      "7   0.079909  0.102618  0.145231  0.117701  0.075187  0.126603  0.094005   \n",
      "8   0.126323  0.098386  0.111161  0.093618  0.124169  0.094520  0.115584   \n",
      "9   0.096016  0.092799  0.139336  0.130243  0.066111  0.124740  0.110569   \n",
      "10  0.129384  0.100322  0.089773  0.110758  0.102230  0.081354  0.124399   \n",
      "11  0.103177  0.106363  0.138114  0.155118  0.114404  0.132110  0.116830   \n",
      "12  0.116900  0.120828  0.115195  0.074535  0.106124  0.084442  0.121339   \n",
      "13  0.082154  0.074048  0.123569  0.107592  0.093545  0.100500  0.090322   \n",
      "14  0.092560  0.060109  0.109689  0.121968  0.066548  0.092881  0.086058   \n",
      "15  0.085952  0.097353  0.132033  0.130947  0.092136  0.123267  0.058423   \n",
      "16  0.066717  0.069478  0.113838  0.118380  0.080580  0.089718  0.079967   \n",
      "17  0.139611  0.139414  0.144361  0.105204  0.130694  0.136056  0.125357   \n",
      "18  0.064737  0.085192  0.129329  0.102928  0.070809  0.108239  0.071541   \n",
      "19  0.101893  0.090379  0.140320  0.140431  0.081825  0.119732  0.092255   \n",
      "20  0.102944  0.104283  0.116842  0.068524  0.103595  0.093994  0.108896   \n",
      "21  0.120867  0.104750  0.112003  0.118870  0.111933  0.096579  0.125671   \n",
      "22  0.133677  0.123588  0.113960  0.096965  0.130422  0.101758  0.130163   \n",
      "23  0.089007  0.077593  0.117593  0.142087  0.080649  0.103872  0.105954   \n",
      "24  0.072045  0.083779  0.131697  0.098360  0.077665  0.116807  0.075180   \n",
      "25  0.088196  0.086236  0.119395  0.126051  0.057488  0.116220  0.101854   \n",
      "26  0.113825  0.097555  0.101005  0.085766  0.115226  0.078937  0.106352   \n",
      "27  0.067147  0.086743  0.132981  0.119069  0.072449  0.113700  0.081263   \n",
      "28  0.086746  0.061954  0.110758  0.113821  0.063798  0.084101  0.084846   \n",
      "29  0.105272  0.128194  0.161190  0.130405  0.103400  0.151912  0.120138   \n",
      "\n",
      "          7         8         9   ...        20        21        22        23  \\\n",
      "0   0.079909  0.126323  0.096016  ...  0.102944  0.120867  0.133677  0.089007   \n",
      "1   0.102618  0.098386  0.092799  ...  0.104283  0.104750  0.123588  0.077593   \n",
      "2   0.145231  0.111161  0.139336  ...  0.116842  0.112003  0.113960  0.117593   \n",
      "3   0.117701  0.093618  0.130243  ...  0.068524  0.118870  0.096965  0.142087   \n",
      "4   0.075187  0.124169  0.066111  ...  0.103595  0.111933  0.130422  0.080649   \n",
      "5   0.126603  0.094520  0.124740  ...  0.093994  0.096579  0.101758  0.103872   \n",
      "6   0.094005  0.115584  0.110569  ...  0.108896  0.125671  0.130163  0.105954   \n",
      "7   0.000000  0.134604  0.067742  ...  0.110998  0.095422  0.109291  0.077169   \n",
      "8   0.134604  0.000000  0.136706  ...  0.077927  0.121398  0.096142  0.125070   \n",
      "9   0.067742  0.136706  0.000000  ...  0.115035  0.095607  0.117317  0.071241   \n",
      "10  0.107144  0.108070  0.094286  ...  0.104996  0.067181  0.081077  0.081975   \n",
      "11  0.087201  0.128629  0.098476  ...  0.130706  0.105871  0.109444  0.072470   \n",
      "12  0.124429  0.090364  0.120931  ...  0.069963  0.131169  0.103511  0.131346   \n",
      "13  0.089305  0.101108  0.104995  ...  0.108127  0.103147  0.121952  0.088533   \n",
      "14  0.097884  0.105981  0.082435  ...  0.097801  0.101398  0.115678  0.066642   \n",
      "15  0.101180  0.117655  0.106191  ...  0.116711  0.132705  0.135939  0.107763   \n",
      "16  0.080470  0.103868  0.104053  ...  0.102816  0.105582  0.114185  0.073469   \n",
      "17  0.108193  0.104722  0.124050  ...  0.093733  0.106655  0.070415  0.122603   \n",
      "18  0.060256  0.115505  0.093680  ...  0.094666  0.112085  0.121483  0.090557   \n",
      "19  0.073908  0.140490  0.058963  ...  0.122568  0.091820  0.113328  0.065316   \n",
      "20  0.110998  0.077927  0.115035  ...  0.000000  0.111405  0.088514  0.120568   \n",
      "21  0.095422  0.121398  0.095607  ...  0.111405  0.000000  0.079691  0.070018   \n",
      "22  0.109291  0.096142  0.117317  ...  0.088514  0.079691  0.000000  0.101740   \n",
      "23  0.077169  0.125070  0.071241  ...  0.120568  0.070018  0.101740  0.000000   \n",
      "24  0.073815  0.123311  0.098874  ...  0.104730  0.116768  0.136493  0.100417   \n",
      "25  0.086047  0.130283  0.082704  ...  0.114491  0.116058  0.134710  0.085295   \n",
      "26  0.125696  0.072492  0.132631  ...  0.068733  0.103837  0.070437  0.108631   \n",
      "27  0.066598  0.127226  0.093507  ...  0.105184  0.120947  0.121894  0.089184   \n",
      "28  0.091494  0.105314  0.089551  ...  0.104433  0.107804  0.125270  0.073357   \n",
      "29  0.071030  0.146061  0.095919  ...  0.137792  0.109171  0.126682  0.099268   \n",
      "\n",
      "          24        25        26        27        28        29  \n",
      "0   0.072045  0.088196  0.113825  0.067147  0.086746  0.105272  \n",
      "1   0.083779  0.086236  0.097555  0.086743  0.061954  0.128194  \n",
      "2   0.131697  0.119395  0.101005  0.132981  0.110758  0.161190  \n",
      "3   0.098360  0.126051  0.085766  0.119069  0.113821  0.130405  \n",
      "4   0.077665  0.057488  0.115226  0.072449  0.063798  0.103400  \n",
      "5   0.116807  0.116220  0.078937  0.113700  0.084101  0.151912  \n",
      "6   0.075180  0.101854  0.106352  0.081263  0.084846  0.120138  \n",
      "7   0.073815  0.086047  0.125696  0.066598  0.091494  0.071030  \n",
      "8   0.123311  0.130283  0.072492  0.127226  0.105314  0.146061  \n",
      "9   0.098874  0.082704  0.132631  0.093507  0.089551  0.095919  \n",
      "10  0.115286  0.119077  0.087063  0.118957  0.099954  0.132351  \n",
      "11  0.117369  0.103886  0.128099  0.097591  0.107020  0.092428  \n",
      "12  0.111823  0.116438  0.069716  0.109213  0.111497  0.142546  \n",
      "13  0.071005  0.101781  0.101261  0.079801  0.082227  0.109818  \n",
      "14  0.090769  0.077536  0.095933  0.085978  0.062161  0.124664  \n",
      "15  0.078662  0.098529  0.117228  0.086778  0.089425  0.119632  \n",
      "16  0.072087  0.084812  0.090377  0.064313  0.062181  0.116115  \n",
      "17  0.143222  0.128013  0.100327  0.124666  0.129622  0.126377  \n",
      "18  0.053563  0.075440  0.100049  0.044324  0.071236  0.094282  \n",
      "19  0.109115  0.089731  0.128730  0.096152  0.085958  0.112379  \n",
      "20  0.104730  0.114491  0.068733  0.105184  0.104433  0.137792  \n",
      "21  0.116768  0.116058  0.103837  0.120947  0.107804  0.109171  \n",
      "22  0.136493  0.134710  0.070437  0.121894  0.125270  0.126682  \n",
      "23  0.100417  0.085295  0.108631  0.089184  0.073357  0.099268  \n",
      "24  0.000000  0.089881  0.111395  0.056354  0.083677  0.091479  \n",
      "25  0.089881  0.000000  0.123381  0.066843  0.074128  0.101020  \n",
      "26  0.111395  0.123381  0.000000  0.108134  0.099345  0.146527  \n",
      "27  0.056354  0.066843  0.108134  0.000000  0.077945  0.088487  \n",
      "28  0.083677  0.074128  0.099345  0.077945  0.000000  0.122655  \n",
      "29  0.091479  0.101020  0.146527  0.088487  0.122655  0.000000  \n",
      "\n",
      "[30 rows x 30 columns]\n"
     ]
    }
   ],
   "source": [
    "# compute qdistance matrix for small set of samples\n",
    "# set nsamples first to set the number of samples to be included in matrix\n",
    "Cg.MAX_PROCESSES = 2\n",
    "Cg.set_nsamples(30)\n",
    "distance_matrix=Cg.distfunc_multiples(\"GSS/results/distfunc_multiples_testing.csv\")\n",
    "print(distance_matrix)"
   ]
  },
  {
   "cell_type": "code",
   "execution_count": 14,
   "metadata": {},
   "outputs": [
    {
     "name": "stdout",
     "output_type": "stream",
     "text": [
      "running\n"
     ]
    },
    {
     "ename": "NameError",
     "evalue": "name 'pandas' is not defined",
     "output_type": "error",
     "traceback": [
      "\u001b[0;31m---------------------------------------------------------------------------\u001b[0m",
      "\u001b[0;31mNameError\u001b[0m                                 Traceback (most recent call last)",
      "\u001b[0;32m<ipython-input-15-8ce8b3649b75>\u001b[0m in \u001b[0;36m<module>\u001b[0;34m\u001b[0m\n\u001b[1;32m      1\u001b[0m \u001b[0mprint\u001b[0m\u001b[0;34m(\u001b[0m\u001b[0;34m\"running\"\u001b[0m\u001b[0;34m)\u001b[0m\u001b[0;34m\u001b[0m\u001b[0m\n\u001b[1;32m      2\u001b[0m \u001b[0mreturn_df\u001b[0m \u001b[0;34m=\u001b[0m \u001b[0mpd\u001b[0m\u001b[0;34m.\u001b[0m\u001b[0mDataFrame\u001b[0m\u001b[0;34m(\u001b[0m\u001b[0;34m)\u001b[0m\u001b[0;34m\u001b[0m\u001b[0m\n\u001b[0;32m----> 3\u001b[0;31m \u001b[0;32mif\u001b[0m \u001b[0mtype\u001b[0m\u001b[0;34m(\u001b[0m\u001b[0mreturn_df\u001b[0m\u001b[0;34m)\u001b[0m \u001b[0;34m==\u001b[0m \u001b[0mpandas\u001b[0m\u001b[0;34m.\u001b[0m\u001b[0mcore\u001b[0m\u001b[0;34m.\u001b[0m\u001b[0mframe\u001b[0m\u001b[0;34m.\u001b[0m\u001b[0mDataFrame\u001b[0m\u001b[0;34m:\u001b[0m\u001b[0;34m\u001b[0m\u001b[0m\n\u001b[0m\u001b[1;32m      4\u001b[0m     \u001b[0mprint\u001b[0m\u001b[0;34m(\u001b[0m\u001b[0;34m\"yes\"\u001b[0m\u001b[0;34m)\u001b[0m\u001b[0;34m\u001b[0m\u001b[0m\n",
      "\u001b[0;31mNameError\u001b[0m: name 'pandas' is not defined"
     ]
    }
   ],
   "source": [
    "print(\"running\")\n",
    "return_df = pd.DataFrame()\n",
    "if type(return_df) == \"pandas.core.frame.DataFrame\":\n",
    "    print(\"yes\")"
   ]
  },
  {
   "cell_type": "code",
   "execution_count": null,
   "metadata": {},
   "outputs": [],
   "source": [
    "# compute qdistance matrix for small set of samples\n",
    "# set nsamples first to set the number of samples to be included in matrix\n",
    "distance_matrix=Cg.distfunc_multiples(\"GSS/results/distfunc_multiples_testing.csv\")\n",
    "print(\"local distance matrix:\", distance_matrix)"
   ]
  },
  {
   "cell_type": "code",
   "execution_count": null,
   "metadata": {},
   "outputs": [],
   "source": [
    "# write files to compute qdistance matrix for large set of samples\n",
    "# execute generated shell script to run mpi parallelization on midway\n",
    "Cg.dmat_filewriter(\"GSS/GSS_cognet.py\", \"GSS/data/gss_2018.joblib\",\n",
    "                   MPI_SETUP_FILE=\"GSS/GSS_mpi_setup.sh\",\n",
    "                   MPI_RUN_FILE=\"GSS/GSS_mpi_run.sh\",\n",
    "                   MPI_LAUNCHER_FILE=\"GSS/GSS_mpi_launcher.sh\",\n",
    "                   YEARS='2018',NODES=4,T=14)"
   ]
  },
  {
   "cell_type": "code",
   "execution_count": null,
   "metadata": {},
   "outputs": [],
   "source": [
    "## embedding\n",
    "## embed generated Qdist Matrix\n",
    "Cg.year = '2018'\n",
    "Cg.embed('examples_results/distfunc_multiples_testing.csv', 'embed', 'examples_results/',EMBED_BINARY='cognet/cognet/bin/__embed__.so')\n",
    "#pd.read_csv('examples_results/embed_E_2018.csv')\n"
   ]
  },
  {
   "cell_type": "code",
   "execution_count": null,
   "metadata": {},
   "outputs": [],
   "source": []
  }
 ],
 "metadata": {
  "interpreter": {
   "hash": "e7370f93d1d0cde622a1f8e1c04877d8463912d04d973331ad4851f04de6915a"
  },
  "kernelspec": {
   "display_name": "Python 3",
   "language": "python",
   "name": "python3"
  },
  "language_info": {
   "codemirror_mode": {
    "name": "ipython",
    "version": 3
   },
   "file_extension": ".py",
   "mimetype": "text/x-python",
   "name": "python",
   "nbconvert_exporter": "python",
   "pygments_lexer": "ipython3",
   "version": "3.7.0"
  }
 },
 "nbformat": 4,
 "nbformat_minor": 4
}
