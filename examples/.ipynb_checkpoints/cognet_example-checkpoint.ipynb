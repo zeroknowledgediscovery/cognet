{
 "cells": [
  {
   "cell_type": "code",
   "execution_count": 7,
   "metadata": {
    "scrolled": false
   },
   "outputs": [
    {
     "name": "stdout",
     "output_type": "stream",
     "text": [
      "running\n"
     ]
    }
   ],
   "source": [
    "# This is an example of how we see \n",
    "# the package work. The functions listed here\n",
    "# are probably teh only ones that should be exposed, ie documented.\n",
    "# others should br prepended with a double underscore\n",
    "#  \n",
    "# The cognet directory has the following \"modules\"\n",
    "# which are seprate .py files containing clases and functions\n",
    "# The modules are cognet.py, dataFormatter.py, model.py, util.py, viz.py\n",
    "# we will write the viz.py later.\n",
    "print(\"running\")\n",
    "import sys\n",
    "sys.path.append(\"../cognet\")\n",
    "#import os \n",
    "#print(os.getcwd())\n",
    "\n",
    "from quasinet.qnet import qdistance\n",
    "from cognet import cognet\n",
    "#import importlib\n",
    "#import cognet as Cg\n",
    "#importlib.reload(Cg)\n",
    "\n",
    "from dataFormatter import dataFormatter\n",
    "from model import model \n",
    "#import cognet.util\n",
    "import pandas as pd\n",
    "import numpy as np\n",
    "#from cognet.viz import distance_contour \n",
    "\n",
    "yr = '2018'\n",
    "POLEFILE='examples_data/polar_vectors.csv'\n",
    "QPATH='examples_data/gss_'+yr+'.joblib'\n",
    "IMMUTABLE_FILE='examples_data/immutable.csv'\n",
    "GSSDATA = 'examples_data/gss_'+yr+'.csv'"
   ]
  },
  {
   "cell_type": "code",
   "execution_count": 8,
   "metadata": {
    "scrolled": false
   },
   "outputs": [
    {
     "name": "stdout",
     "output_type": "stream",
     "text": [
      "            wrkstat HRS1 HRS2 evwork        wrkslf  wrkgovt OCC10 PRESTG10  \\\n",
      "0  temp not working    e    c    NaN  someone else  private     b        c   \n",
      "1  working fulltime    c    e    NaN  someone else  private     b        d   \n",
      "\n",
      "  PRESTG105PLUS INDUS10  ...    neisafe rlooks rgroomed rweight rhlthend wtss  \\\n",
      "0             c       c  ...  very safe    NaN      NaN     NaN      NaN    e   \n",
      "1             d       c  ...  very safe    NaN      NaN     NaN      NaN    c   \n",
      "\n",
      "  wtssnr wtssall vstrat vpsu  \n",
      "0      e       e   3301    1  \n",
      "1      c       c   3301    1  \n",
      "\n",
      "[2 rows x 1034 columns]\n"
     ]
    }
   ],
   "source": [
    "# ---------------------------------\n",
    "# testing dataFormatter\n",
    "data = dataFormatter(samples=GSSDATA,\n",
    "                test_size=0.5)\n",
    "# load the sample data\n",
    "# have option for test/train split\n",
    "# make checks to ensure we will not bark at qnet construction \n",
    "# data.train() returns traininh data\n",
    "# data.test() returns test data\n",
    "print(data.samples[:2])\n",
    "features,samples = data.train()\n",
    "# we can set mutable and immutable vars from list or file\n",
    "im_vars_df = pd.read_csv(IMMUTABLE_FILE, names=['vars'])\n",
    "im_vars_list = im_vars_df.vars.to_list()\n",
    "mutable_vars, immutable_vars = data.mutable_variables(immutable_list=im_vars_list)\n",
    "mutable_vars, immutable_vars = data.mutable_variables(IMMUTABLE_FILE=IMMUTABLE_FILE)\n",
    "# -------------------------------------"
   ]
  },
  {
   "cell_type": "code",
   "execution_count": 9,
   "metadata": {},
   "outputs": [
    {
     "name": "stdout",
     "output_type": "stream",
     "text": [
      "updating\n"
     ]
    }
   ],
   "source": [
    "# -------------------------------------\n",
    "# testing model functionality\n",
    "# can either input features and samples directly, or infer from data obj\n",
    "model_ = model()\n",
    "\n",
    "# qnet construction parameters\n",
    "test_model_buildqnet = False\n",
    "# infer qnet\n",
    "if test_model_buildqnet:\n",
    "        model_.fit(data_obj=data)\n",
    "        model_.export_dot(\"tmp_dot_modelclass.dot\",\n",
    "                        generate_trees=True)\n",
    "        model_.save(\"tmp_nodelclass.joblib\")\n",
    "        #model_.load(\"tmp_nodelclass.joblib\")\n",
    "else:\n",
    "    model_.load(\"examples_data/gss_2018.joblib\")"
   ]
  },
  {
   "cell_type": "code",
   "execution_count": 4,
   "metadata": {},
   "outputs": [],
   "source": []
  },
  {
   "cell_type": "code",
   "execution_count": 10,
   "metadata": {},
   "outputs": [
    {
     "name": "stdout",
     "output_type": "stream",
     "text": [
      "1034\n",
      "0.11835306754736544\n",
      "actual:0.11889948497780314\n"
     ]
    }
   ],
   "source": [
    "# set some paramaters in instantiating cognet class \n",
    "# also setup Dnull, and nullbaseFreq\n",
    "# if loading from model obj, no need to load_data, otherwise, load_data\n",
    "\n",
    "Cg = cognet()\n",
    "print(len(model_.features))\n",
    "Cg.load_from_model(model_, samples_file='examples_data/gss_2018.csv')\n",
    "\n",
    "# distance calculation for individual samples    \n",
    "# we have a nsteps parameter (for sample 1 and sample2)\n",
    "# which qsamples the sample1 and sample2 if set before\n",
    "# computing distance. Note qsampling must only \n",
    "# change mutable varaibles, so need to compute base-freq\n",
    "distance = Cg.distance(samples[1],samples[3],nsteps1=5, nsteps2=5)\n",
    "print(distance)\n",
    "qdistance_ = qdistance(samples[1],samples[3],Cg.qnet,Cg.qnet)\n",
    "print(\"actual:{}\".format(qdistance_))\n",
    "#distance = Cg.distance(data.samples[0],data.samples[1])\n",
    "#distance = Cg.distance(data.test[0],data.test[1])"
   ]
  },
  {
   "cell_type": "code",
   "execution_count": 10,
   "metadata": {},
   "outputs": [
    {
     "name": "stdout",
     "output_type": "stream",
     "text": [
      "4 pole features not found in sample features\n",
      "[0.04660747843311844, 0.12027515818170288]\n"
     ]
    }
   ],
   "source": [
    "# produce stats on how many column names actually match\n",
    "stats = Cg.set_poles(POLEFILE, steps=120)\n",
    "\n",
    "# compute polar distance matrix\n",
    "dmatrix = Cg.polar_separation(nsteps=0)\n",
    "\n",
    "# the following are for single samples\n",
    "#------------------\n",
    "dissonance_array = Cg.dissonance(1)\n",
    "returndict = {}\n",
    "rederr,r_prob,rand_err = Cg.randomMaskReconstruction(1, returndict)# sample=np.array(samples[1]))\n",
    "#ideology_index = Cg.compute_DLI_sample(3)\n",
    "Cg.num_qsamples = 5\n",
    "ideology_index = Cg.ideology(3)\n",
    "\n",
    "# get dispersion of an individual sample\n",
    "Dispersion_ = Cg.dispersion(3)\n",
    "print(Dispersion_)\n",
    "# compute distance from each pole\n",
    "array_distances = Cg.polarDistance(1, returndict)\n",
    "#-------------------"
   ]
  },
  {
   "cell_type": "code",
   "execution_count": 11,
   "metadata": {
    "scrolled": true
   },
   "outputs": [
    {
     "name": "stdout",
     "output_type": "stream",
     "text": [
      "updated test case to take first 10 samples instead of random\n",
      "[[-0.10380626175907007, 0.07398232539361287, 0.08716713776104973, 0.12701365162381295], [-0.02612869543772122, 0.0810577658097219, 0.08437646682943334, 0.12701365162381295], [-0.04676865002716136, 0.07664580073339856, 0.08258605775486447, 0.12701365162381295], [-0.021523870295300444, 0.08019375205441857, 0.082927577417702, 0.12701365162381295], [-0.05453461707864436, 0.07606234684109475, 0.08298898769615973, 0.12701365162381295], [-0.07773175305694068, 0.07493460969666665, 0.08480760349954918, 0.12701365162381295], [-0.03799387439732627, 0.08017335397743026, 0.08499909470397117, 0.12701365162381295], [-0.0719081363809261, 0.07610207080308913, 0.08523538578629371, 0.12701365162381295], [-0.06252055201357962, 0.07781677811941479, 0.08575774173219607, 0.12701365162381295], [-0.14293531506034501, 0.07250198305132644, 0.09065671936314104, 0.12701365162381295]]\n",
      "[[0.018473979545176506, 0.13028589891063777], [0.0181911268253641, 0.12764758599976747], [0.017297343802652677, 0.12257592651700415], [0.018433873225360112, 0.12975292653437526], [0.018032371856431723, 0.1280374223421329], [0.017465594440447867, 0.123828838282693], [0.01776647178264659, 0.12473355070536817], [0.018400070447974627, 0.12919985577581944], [0.017481430491693147, 0.12431830838121649], [0.018170591151312112, 0.12755731359014452]]\n"
     ]
    }
   ],
   "source": [
    "# the following are for arrays of samples\n",
    "# multiprocessing suffices\n",
    "count = 0\n",
    "if count == 0:\n",
    "    Cg.set_nsamples(10)\n",
    "    count +=1\n",
    "# computing polar_indices makes sure that dissonance matrix only takes in polar cols\n",
    "Cg.compute_polar_indices()\n",
    "dissonance_array = Cg.dissonance_matrix(output_file='examples_results/DISSONANCE_matrix.csv')\n",
    "# multiprocessing suffices\n",
    "dataframes,error_array = Cg.randomMaskReconstruction_multiple('examples_results/randomMaskRecon_test.csv')\n",
    "# multiprocessing suffices\n",
    "ideology_index = Cg.compute_DLI_samples('ideology','examples_results/ideology.csv')\n",
    "# multiprocessing suffices\n",
    "local_dispersion = Cg.compute_DLI_samples('dispersion', 'examples_results/dispersion_test.csv')\n",
    "# compute distance from each pole\n",
    "# multiprocessing suffices\n",
    "array_distances = Cg.polarDistance_multiple('examples_results/polarDistance_multiple_test.csv')\n",
    "#-------------------"
   ]
  },
  {
   "cell_type": "code",
   "execution_count": 12,
   "metadata": {},
   "outputs": [
    {
     "name": "stdout",
     "output_type": "stream",
     "text": [
      "0\n",
      "1\n",
      "2\n",
      "3\n",
      "4\n",
      "5\n",
      "6\n",
      "7\n",
      "8\n",
      "9\n"
     ]
    }
   ],
   "source": [
    "if count == 0:\n",
    "    Cg.set_nsamples(10)\n",
    "    count +=1\n",
    "\n",
    "#the following must use parallelization\n",
    "# next one must use mpi and hence will not run\n",
    "# with mpi without maybe a seprate script.\n",
    "# But look here: https://stackoverflow.com/questions/25772289/python-multiprocessing-within-mpi\n",
    "distance_matrix=Cg.distfunc_multiples(\"examples_results/distfunc_multiples_testing.csv\")\n"
   ]
  },
  {
   "cell_type": "code",
   "execution_count": 11,
   "metadata": {},
   "outputs": [
    {
     "name": "stdout",
     "output_type": "stream",
     "text": [
      "{}\n",
      "['wrkstat' 'HRS1' 'HRS2' ... 'wtssall' 'vstrat' 'vpsu']\n",
      "None\n"
     ]
    },
    {
     "ename": "AttributeError",
     "evalue": "'NoneType' object has no attribute 'transpose'",
     "output_type": "error",
     "traceback": [
      "\u001b[0;31m---------------------------------------------------------------------------\u001b[0m",
      "\u001b[0;31mAttributeError\u001b[0m                            Traceback (most recent call last)",
      "\u001b[0;32m<ipython-input-11-e8e1a08f40bd>\u001b[0m in \u001b[0;36m<module>\u001b[0;34m\u001b[0m\n\u001b[1;32m      3\u001b[0m \u001b[0mprint\u001b[0m\u001b[0;34m(\u001b[0m\u001b[0mCg\u001b[0m\u001b[0;34m.\u001b[0m\u001b[0mcols\u001b[0m\u001b[0;34m)\u001b[0m\u001b[0;34m\u001b[0m\u001b[0m\n\u001b[1;32m      4\u001b[0m \u001b[0mprint\u001b[0m\u001b[0;34m(\u001b[0m\u001b[0mCg\u001b[0m\u001b[0;34m.\u001b[0m\u001b[0mpolar_features\u001b[0m\u001b[0;34m)\u001b[0m\u001b[0;34m\u001b[0m\u001b[0m\n\u001b[0;32m----> 5\u001b[0;31m \u001b[0mpoles\u001b[0m \u001b[0;34m=\u001b[0m \u001b[0mCg\u001b[0m\u001b[0;34m.\u001b[0m\u001b[0mpoles\u001b[0m\u001b[0;34m.\u001b[0m\u001b[0mtranspose\u001b[0m\u001b[0;34m(\u001b[0m\u001b[0;34m)\u001b[0m\u001b[0;34m\u001b[0m\u001b[0m\n\u001b[0m\u001b[1;32m      6\u001b[0m \u001b[0;32mfor\u001b[0m \u001b[0mcol\u001b[0m \u001b[0;32min\u001b[0m \u001b[0mpoles\u001b[0m\u001b[0;34m:\u001b[0m\u001b[0;34m\u001b[0m\u001b[0m\n\u001b[1;32m      7\u001b[0m     \u001b[0mp_\u001b[0m \u001b[0;34m=\u001b[0m \u001b[0mCg\u001b[0m\u001b[0;34m.\u001b[0m\u001b[0mpolar_features\u001b[0m\u001b[0;34m.\u001b[0m\u001b[0mloc\u001b[0m\u001b[0;34m[\u001b[0m\u001b[0mcol\u001b[0m\u001b[0;34m]\u001b[0m\u001b[0;34m[\u001b[0m\u001b[0mCg\u001b[0m\u001b[0;34m.\u001b[0m\u001b[0mcols\u001b[0m\u001b[0;34m]\u001b[0m\u001b[0;34m.\u001b[0m\u001b[0mfillna\u001b[0m\u001b[0;34m(\u001b[0m\u001b[0;34m''\u001b[0m\u001b[0;34m)\u001b[0m\u001b[0;34m.\u001b[0m\u001b[0mvalues\u001b[0m\u001b[0;34m.\u001b[0m\u001b[0mastype\u001b[0m\u001b[0;34m(\u001b[0m\u001b[0mstr\u001b[0m\u001b[0;34m)\u001b[0m\u001b[0;34m[\u001b[0m\u001b[0;34m:\u001b[0m\u001b[0;34m]\u001b[0m\u001b[0;34m\u001b[0m\u001b[0m\n",
      "\u001b[0;31mAttributeError\u001b[0m: 'NoneType' object has no attribute 'transpose'"
     ]
    }
   ],
   "source": [
    "## embedding\n",
    "Cg.embed('examples_data/DMAT_2018.csv', 'embed', 'examples_results/')\n"
   ]
  },
  {
   "cell_type": "code",
   "execution_count": 13,
   "metadata": {},
   "outputs": [
    {
     "name": "stdout",
     "output_type": "stream",
     "text": [
      "     0         1         2         3         4         5         6         7  \\\n",
      "9  0.0  0.018356  0.018443  0.017733  0.016969  0.019294  0.016127  0.009567   \n",
      "8  0.0  0.000000  0.011708  0.028874  0.006919  0.011691  0.016253  0.020151   \n",
      "7  0.0  0.000000  0.000000  0.018221  0.011072  0.002000  0.018305  0.020296   \n",
      "6  0.0  0.000000  0.000000  0.000000  0.026250  0.019529  0.029523  0.017105   \n",
      "5  0.0  0.000000  0.000000  0.000000  0.000000  0.011727  0.018228  0.018193   \n",
      "4  0.0  0.000000  0.000000  0.000000  0.000000  0.000000  0.017489  0.019196   \n",
      "3  0.0  0.000000  0.000000  0.000000  0.000000  0.000000  0.000000  0.022367   \n",
      "2  0.0  0.000000  0.000000  0.000000  0.000000  0.000000  0.000000  0.000000   \n",
      "1  0.0  0.000000  0.000000  0.000000  0.000000  0.000000  0.000000  0.000000   \n",
      "0  0.0  0.000000  0.000000  0.000000  0.000000  0.000000  0.000000  0.000000   \n",
      "\n",
      "          8         9  \n",
      "9  0.023376  0.016508  \n",
      "8  0.023085  0.006170  \n",
      "7  0.014759  0.011122  \n",
      "6  0.015590  0.026320  \n",
      "5  0.022253  0.001897  \n",
      "4  0.013918  0.010733  \n",
      "3  0.018515  0.019284  \n",
      "2  0.017319  0.017439  \n",
      "1  0.000000  0.022028  \n",
      "0  0.000000  0.000000  \n"
     ]
    }
   ],
   "source": [
    "result=[x for x in distance_matrix.values()]\n",
    "columns = [i for i in range(len(Cg.samples))]\n",
    "result=pd.DataFrame(result,columns=columns, index=columns).sort_index(ascending=False)\n",
    "print(result)"
   ]
  }
 ],
 "metadata": {
  "interpreter": {
   "hash": "e7370f93d1d0cde622a1f8e1c04877d8463912d04d973331ad4851f04de6915a"
  },
  "kernelspec": {
   "display_name": "Python 3",
   "language": "python",
   "name": "python3"
  },
  "language_info": {
   "codemirror_mode": {
    "name": "ipython",
    "version": 3
   },
   "file_extension": ".py",
   "mimetype": "text/x-python",
   "name": "python",
   "nbconvert_exporter": "python",
   "pygments_lexer": "ipython3",
   "version": "3.7.0"
  }
 },
 "nbformat": 4,
 "nbformat_minor": 2
}
