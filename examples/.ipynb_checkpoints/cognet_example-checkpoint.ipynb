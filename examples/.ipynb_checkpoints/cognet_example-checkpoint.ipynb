{
 "cells": [
  {
   "cell_type": "code",
   "execution_count": 3,
   "metadata": {
    "scrolled": false
   },
   "outputs": [
    {
     "name": "stdout",
     "output_type": "stream",
     "text": [
      "<class 'cognet.cognet.cognet'>\n"
     ]
    }
   ],
   "source": [
    "# This is an example of how we see \n",
    "# the package work. The functions listed here\n",
    "# are probably teh only ones that should be exposed, ie documented.\n",
    "# others should br prepended with a double underscore\n",
    "#  \n",
    "# The cognet directory has the following \"modules\"\n",
    "# which are seprate .py files containing clases and functions\n",
    "# The modules are cognet.py, dataFormatter.py, model.py, util.py, viz.py\n",
    "# we will write the viz.py later.\n",
    "import sys\n",
    "sys.path.append(\"../\")\n",
    "%reload_ext autoreload\n",
    "%autoreload\n",
    "\n",
    "#from quasinet.qnet import qdistance\n",
    "from cognet.cognet import cognet\n",
    "print(cognet)\n",
    "\n",
    "from cognet.dataFormatter import dataFormatter\n",
    "from cognet.model import model \n",
    "#import cognet.util\n",
    "import pandas as pd\n",
    "import numpy as np\n",
    "#from cognet.viz import distance_contour \n",
    "\n",
    "yr = '2018'\n",
    "GSS_dir = '../../creed2_/GSS/data/processed_data/'\n",
    "POLEFILE='../../creed2_/GSS/polar_vectors.csv'\n",
    "GSS_FEATURES_BY_YEAR='../../creed2_/GSS/data/features/features_by_year_GSS.csv'\n",
    "GSSDATA=GSS_dir+'gss_'+yr+'.csv'\n",
    "QPATH='../../creed2_/GSS/Qnets/gss_'+yr+'.joblib'\n",
    "IMMUTABLE_FILE='../../creed2_/GSS/immutable.csv'"
   ]
  },
  {
   "cell_type": "code",
   "execution_count": 4,
   "metadata": {
    "scrolled": true
   },
   "outputs": [
    {
     "name": "stdout",
     "output_type": "stream",
     "text": [
      "            wrkstat HRS1 HRS2 evwork        wrkslf  wrkgovt OCC10 PRESTG10  \\\n",
      "0  temp not working    e    c    NaN  someone else  private     b        c   \n",
      "1  working fulltime    c    e    NaN  someone else  private     b        d   \n",
      "\n",
      "  PRESTG105PLUS INDUS10  ...    neisafe rlooks rgroomed rweight rhlthend wtss  \\\n",
      "0             c       c  ...  very safe    NaN      NaN     NaN      NaN    e   \n",
      "1             d       c  ...  very safe    NaN      NaN     NaN      NaN    c   \n",
      "\n",
      "  wtssnr wtssall vstrat vpsu  \n",
      "0      e       e   3301    1  \n",
      "1      c       c   3301    1  \n",
      "\n",
      "[2 rows x 1034 columns]\n",
      "<class 'numpy.ndarray'>\n",
      "qnet\n",
      "done\n",
      "<class 'numpy.ndarray'>\n",
      "[['working fulltime' 'c' 'e' ... 'c' '3323' '1']\n",
      " ['retired' 'e' 'e' ... 'c' '3350' '2']]\n",
      "<class 'numpy.ndarray'>\n"
     ]
    }
   ],
   "source": [
    "data = dataFormatter(samples=GSSDATA,\n",
    "                test_size=0.5)\n",
    "# load the sample data\n",
    "# have option for test/train split\n",
    "# make checks to ensure we will not bark at qnet construction \n",
    "# data.train() returns traininh data\n",
    "# data.test() returns test data\n",
    "print(data.samples[:2])\n",
    "features,samples = data.train()\n",
    "features,samples = data.train()\n",
    "print(type(samples))\n",
    "# we can set mutable and immutable vars from list or file\n",
    "im_vars_df = pd.read_csv(IMMUTABLE_FILE, names=['vars'])\n",
    "im_vars_list = im_vars_df.vars.to_list()\n",
    "mutable_vars, immutable_vars = data.set_vars(immutable_list=im_vars_list)\n",
    "mutable_vars, immutable_vars = data.set_vars(IMMUTABLE_FILE=IMMUTABLE_FILE)\n",
    "\n",
    "\n",
    "\n",
    "# can either input features and samples directly, or infer from data obj\n",
    "model_ = model()\n",
    "model_.fit(data_obj=data)\n",
    "# qnet construction parameters \n",
    "# infer qnet\n",
    "print(type(model_.samples))\n",
    "print(model_.samples[:2])\n",
    "print(type(model_.samples))\n",
    "test_model=False\n",
    "if test_model:\n",
    "        model_.export_dot(\"tmp_dot_modelclass.dot\",\n",
    "                        generate_trees=True)\n",
    "        model_.save(\"tmp_nodelclass.joblib\")\n",
    "        model_.load(\"tmp_nodelclass.joblib\")"
   ]
  },
  {
   "cell_type": "code",
   "execution_count": 5,
   "metadata": {},
   "outputs": [
    {
     "name": "stdout",
     "output_type": "stream",
     "text": [
      "<class 'numpy.ndarray'>\n",
      "['retired', 'e', 'e', 'yes', 'someone else', 'private', 'c', 'c', 'c', 'd', 'married', 'marriage between a man and a woman', 'no', 'no', 'retired', 'e', 'e', 'yes', 'nan', 'nan', 'nan', 'e', 'e', 'someone else', 'c', 'c', 'b', 'construction', 'e', 'nan', 'someone else', 'd', 'c', 'c', 'c', 'someone else', 'e', 'c', 'c', 'apparel accessories and other apparel manufacturing', 'c', 'd', 'd', 'b', 'b', 'e', 'b', 'b', 'e', 'nan', 'high school', 'lt high school', 'lt high school', 'lt high school', 'nan', 'nan', 'ged', 'female', 'white', 'city gt 250000', 'w. sou. central', 'same st,dif city', 'other', 'other', 'yes', 'average', 'yes', 'both in u.s', 'c', '2', 'c', 'c', 'c', '2', 'c', 'b', '$25000 or more', 'nan', '$60000 to 74999', 'nan', 'w. sou. central', 'uninc,lrg city', 'other rural', '14', 'not str democrat', 'voted', 'nan', 'nan', 'voted', 'no answer', 'nan', 'moderate', 'nan', 'too little', 'too little', 'too little', 'too little', 'too little', 'too little', 'too little', 'too much', 'too much', 'too much', 'too little', 'too little', 'too little', 'too little', 'too much', 'too little', 'about right', 'nan', 'nan', 'nan', 'nan', 'nan', 'nan', 'nan', 'nan', 'nan', 'nan', 'nan', 'e', 'too high', 'allowed', 'allowed', 'remove', 'allowed', 'allowed', 'remove', 'not allowed', 'fired', 'remove', 'allowed', 'allowed', 'not remove', 'allowed', 'allowed', 'not remove', 'not allowed', 'not allowed', 'remove', 'oppose', 'favor', 'not harsh enough', 'nan', 'catholic', 'nan', 'nan', 'nan', 'moderate', 'more thn once wk', 'strong', 'yes', 'once a day', 'certainly true', 'catholic', 'nan', 'nan', 'nan', 'moderate', 'catholic', 'nan', 'nan', 'nan', 'moderate', 'nan', 'nan', 'nan', 'nan', 'nan', 'disapprove', 'word of god', 'owner decides', 'yes', 'strongly oppose pref', 'agree strongly', 'very happy', 'very happy', 'nan', 'good', 'exciting', 'nan', 'nan', 'nan', 'nan', 'nan', 'nan', 'nan', 'nan', 'nan', 'nan', 'nan', 'nan', 'nan', 'nan', 'nan', 'nan', 'nan', 'nan', 'nan', 'nan', 'nan', 'sev times a week', 'sev times a mnth', 'sev times a mnth', 'never', 'nan', 'b', 'nan', 'nan', 'nan', 'nan', 'nan', 'middle class', 'c', 'more or less', 'stayed same', 'average', 'nan', 'nan', 'nan', 'nan', 'nan', 'nan', 'nan', 'nan', 'nan', 'nan', 'nan', 'hard work', 'nan', 'nan', 'disagree', 'no', 'no', 'yes', 'no', 'no', 'no', 'no', 'c', 'agree', 'favor', 'easier', 'not wrong at all', 'always wrong', 'always wrong', 'always wrong', 'nan', 'nan', 'disagree', 'yes', 'no', 'no', 'no', 'no', 'nan', 'nan', 'nan', 'nan', 'nan', 'no', 'yes', 'yes', 'no', 'yes', 'no', 'neither', 'neither hunts', 'few times a week', 'c', 'cellphone', 'friendly,interested', 'good', 'standard <x>', 'c', 'agree', 'agree', 'disagree', 'no', 'no', 'no', 'no', 'e', 'e', 'e', 'e', 'know god exists', 'no', 'no', 'e', 'c', 'c', 'c', 'c', 'c', 'c', 'c', 'c', 'c', 'oppose', 'neither favor nor oppose', 'neither favor nor oppose', 'neither favor nor oppose', 'neither favor nor oppose', 'nan', 'very likely', 'e', 'nan', 'strongly for', 'very likely', 'nan', 'nan', 'e', 'nan', 'nan', 'nan', 'nan', 'nan', 'nan', 'nan', 'nan', 'nan', 'nan', 'nan', 'nan', 'nan', 'nan', 'nan', 'nan', 'nan', 'nan', 'nan', 'nan', 'nan', 'nan', 'nan', 'nan', 'nan', 'nan', 'nan', 'nan', 'nan', 'nan', 'nan', 'nan', 'nan', 'nan', 'nan', 'nan', 'nan', 'nan', 'nan', 'nan', 'nan', 'nan', 'nan', 'nan', 'nan', 'nan', 'nan', 'nan', 'nan', 'nan', 'nan', 'nan', 'nan', 'nan', 'e', 'e', 'e', 'e', 'e', 'e', 'e', 'e', 'e', 'e', 'nan', 'nan', 'nan', 'nan', 'nan', 'e', 'e', 'e', 'e', 'e', 'e', 'e', 'e', 'e', 'e', 'e', 'e', 'e', 'e', 'e', 'e', 'e', 'e', 'e', 'e', 'nan', 'nan', 'nan', 'nan', 'nan', 'nan', 'nan', 'nan', 'nan', 'nan', 'nan', 'very religious', 'modeate spirtual', 'yes', 'spanish', 'nan', 'not well', 'language 1', 'yes', 'nan', 'c', 'c', 'nan', 'c', 'c', 'very clean', 'nan', 'e', 'e', 'nan', 'e', 'nan', 'nan', 'nan', 'nan', 'nan', 'nan', 'e', 'nan', 'nan', 'nan', 'nan', 'nan', 'nan', 'nan', 'nan', 'nan', 'nan', 'nan', 'nan', 'nan', 'nan', 'nan', 'nan', 'nan', 'nan', 'nan', 'nan', 'nan', 'nan', 'nan', 'nan', 'nan', 'nan', 'nan', 'nan', 'nan', 'nan', 'nan', 'nan', 'nan', 'nan', 'nan', 'nan', 'nan', 'nan', 'nan', 'nan', 'nan', 'nan', 'nan', 'nan', 'nan', 'nan', 'nan', 'nan', 'nan', 'e', 'e', 'e', 'nan', 'nan', 'nan', 'e', 'nan', 'nan', 'nan', 'nan', 'nan', 'nan', 'e', 'nan', 'nan', 'nan', 'nan', 'nan', 'e', 'e', 'e', 'e', 'e', 'e', 'never', 'a few times a year', 'never', 'never', 'never', 'very good', 'good', 'very good', 'very good', 'very good', 'moderately', 'c', 'moderate', 'c', 'it depends', 'nan', 'morally opposed', 'easy', 'make it harder', 'no', 'no', 'no', 'yes', 'a woman and her medical professional should decide', 'nan', 'people should not be able', 'nan', 'nan', 'nan', 'nan', 'nan', 'nan', 'nan', 'nan', 'nan', 'nan', 'e', 'nan', 'nan', 'nan', 'nan', 'nan', 'nan', 'nan', 'nan', 'nan', 'nan', 'nan', 'nan', 'nan', 'nan', 'nan', 'nan', 'nan', 'nan', 'nan', 'nan', 'nan', 'nan', 'nan', 'nan', 'nan', 'nan', 'nan', 'nan', 'e', 'nan', 'nan', 'nan', 'nan', 'nan', 'nan', 'e', 'e', 'e', 'e', 'nan', 'tv', 'tv', 'the internet', 'agree', 'disagree', 'agree', 'no', 'sort of scientific', 'benefits greater', 'slightly in favor', 'nan', 'little understanding', 'nan', '500 get the drug 500 dont', 'correct wrong reason', 'nan', 'yes', 'nan', 'nan', 'False', 'nan', 'nan', 'True', 'nan', 'nan', 'nan', 'True', 'nan', 'nan', 'sun around earth', 'nan', 'nan', 'nan', 'no', 'e', \"no math in hs didn't go to hs\", 'no', 'no', 'no', 'harmful results greater', 'nan', 'slightly in favor', 'moderately interested', 'not at all interested', 'moderately interested', 'not at all interested', 'moderately interested', 'moderately interested', 'moderately interested', 'moderately interested', 'moderately interested', 'moderately interested', 'c', 'c', 'c', 'nan', 'nan', 'nan', 'agree', 'agree', 'disagree', 'agree', 'e', 'e', 'e', 'nan', 'nan', 'nan', 'nan', 'nan', 'nan', 'nan', 'nan', 'nan', 'nan', 'nan', 'c', 'nan', 'nan', 'nan', 'married with partner', 'nan', 'married', 'nan', 'nan', 'nan', 'nan', 'nan', 'nan', 'nan', 'nan', 'nan', 'nan', 'nan', 'nan', 'nan', 'nan', 'nan', 'nan', 'nan', 'nan', 'nan', 'nan', 'nan', 'nan', 'nan', 'nan', 'nan', 'nan', 'nan', 'nan', 'nan', 'nan', 'nan', 'nan', 'e', 'e', 'nan', 'nan', 'nan', 'nan', 'nan', 'nan', 'nan', 'nan', 'nan', 'nan', 'nan', 'e', 'good', 'nan', 'nan', 'nan', 'nan', 'nan', 'nan', 'nan', 'nan', 'nan', 'disagree', 'disagree', 'disagree', 'completely satisfied', 'nan', 'nan', 'nan', 'very happy', 'always wrong', 'always wrong', 'always wrong', 'very little confidence', 'very little confidence', 'a great deal of confidence', 'some confidence', 'some confidence', 'strongly agree', 'right amount pwr', 'believe now, always have', 'yes, definitely', 'yes, definitely', 'yes, definitely', 'yes, definitely', 'strongly agree', 'agree', 'agree', 'strongly disagree', 'agree', 'catholic', 'nan', 'catholic', 'nan', 'catholic', 'nan', 'about once a month', 'about once a month', 'about once a month', 'several times a week', 'about once a month', 'yes', 'very religious', 'nan', 'nan', 'strongly agree', 'not agree/dsagre', 'not agree/dsagre', 'probably accept', 'probably', 'probably', 'yes, probably', 'neither agree nor disagree', 'treats men better than women', 'yes', 'about once or twice a year', 'i follow a religion and consider myself to be a spiritual person interested in the sacred and the sup', 'agree', 'strongly agree', 'neither agree nor disagree', 'strongly agree', 'disagree', 'disagree', 'disagree', 'very positive', 'very positive', 'very positive', 'very positive', 'very positive', 'neither positive nor negative', 'extremely dangerous', 'very dangerous', 'very dangerous', 'very dangerous', 'not very dangerous', 'somewhat dangerous', 'remain the same as it is', 'nan', 'nan', 'nan', 'nan', 'nan', 'nan', 'nan', 'nan', 'nan', 'e', 'e', 'nan', 'nan', 'nan', 'nan', 'nan', 'nan', 'nan', 'nan', 'nan', 'nan', 'nan', 'e', 'nan', 'nan', 'nan', 'nan', 'nothing at all', 'e', 'nan', 'yes', 'no', 'c', 'e', 'c', 'e', 'mexico', 'mexico', 'nan', 'nan', 'names 1', 'mexican, mexican american, chicano/a', 'white', 'nan', 'nan', 'nan', 'nan', 'e', 'e', 'none', 'trailer', 'own or is buying', 'owned or was buying', 'correct', 'correct', 'nan', 'correct', 'correct', 'incorrect', 'correct', 'nan', 'correct', 'incorrect', 'c', 'male', 'd', 'married', 'nan', 'spouse', 'female', 'd', 'married', 'nan', 'nan', 'nan', 'e', 'nan', 'nan', 'nan', 'nan', 'e', 'nan', 'nan', 'nan', 'nan', 'e', 'nan', 'nan', 'nan', 'nan', 'e', 'nan', 'nan', 'nan', 'nan', 'e', 'nan', 'nan', 'e', 'nan', 'nan', 'e', 'nan', 'e', 'nan', 'nan', 'e', 'nan', 'nan', 'nan', 'e', 'nan', 'spouse', 'nan', 'nan', 'nan', 'nan', 'nan', 'nan', 'nan', 'nan', 'nan', 'nan', '1st person', 'white', '2nd person', '2adlts,mar,0kids', 'married couple, no children', '1 gen', 'spouse', 'r. is household member', 'no visitors', 'spouse', 'nan', 'nan', 'nan', 'nan', 'nan', 'nan', 'nan', 'nan', 'nan', 'nan', 'spouse', 'nan', 'nan', 'nan', 'nan', 'nan', 'nan', 'nan', 'nan', 'nan', 'nan', '502', 'c', 'b', 'd', 'd', 'survey and market research interviewers', 'supply, distribution and related managers', 'manufacturing labourers not elsewhere classified', 'concrete placers, concrete finishers and related workers', 'nan', 'c', 'c', 'c', 'c', 'c', 'c', 'c', 'b', 'c', 'b', 'b', 'c', 'e', 'e', 'e', 'e', 'e', 'yes', 'b', 'aquarius', 'other, not specified', 'white', 'nan', 'nan', 'no', 'no', 'yes', 'no', 'no', 'no', '3', 'yes, money', 'b', '96', '56', 'hispanic', 'in-person', 'female', '13', 'r consents to recording interview', 'ballot a', '1', 'did issp', '626', 'phase one - initial cases', 'nan', 'nan', 'english', 'nan', 'yes', 'detached single family house', 'no', 'low', 'average', 'somewhat safe', 'attractive', 'well groomed', 'about the right weight', 'good', 'c', 'c', 'c', '3350', '2']\n",
      "['working parttime', 'b', 'e', 'nan', 'someone else', 'private', 'c', 'c', 'c', 'c', 'never married', 'nan', 'nan', 'nan', 'nan', 'e', 'e', 'nan', 'nan', 'nan', 'nan', 'e', 'e', 'nan', 'e', 'e', 'e', 'nan', 'e', 'nan', 'someone else', 'd', 'c', 'c', 'b', 'nan', 'e', 'e', 'e', 'nan', 'c', 'b', 'b', 'e', 'c', 'c', 'b', 'e', 'e', 'nan', 'lt high school', 'high school', 'lt high school', 'nan', 'nan', 'nan', 'nan', 'female', 'other', 'city gt 250000', 'w. sou. central', 'same city', 'mother & father', 'nan', 'no', 'nan', 'yes', 'neither in u.s', 'd', '5', 'd', 'c', 'e', '3', 'c', 'c', 'nan', 'nan', 'nan', 'nan', 'w. sou. central', 'city gt 250000', \"12 lrgst smsa's\", '2099', 'independent', 'ineligible', 'nan', 'obama', 'ineligible', 'iap', 'clinton', 'moderate', 'about right', 'too little', 'too little', 'about right', 'about right', 'nan', 'about right', 'too little', 'too little', 'too little', 'about right', 'too much', 'too much', 'about right', 'about right', 'about right', 'about right', 'nan', 'nan', 'nan', 'nan', 'nan', 'nan', 'nan', 'nan', 'nan', 'nan', 'nan', 'nan', 'c', 'nan', 'nan', 'nan', 'nan', 'nan', 'nan', 'nan', 'nan', 'nan', 'nan', 'nan', 'nan', 'nan', 'nan', 'nan', 'nan', 'nan', 'nan', 'nan', 'favor', 'nan', 'nan', 'legal', 'catholic', 'nan', 'nan', 'nan', 'moderate', 'once a year', 'somewhat strong', 'yes', 'once a day', 'uncertain true or false', 'catholic', 'nan', 'nan', 'nan', 'moderate', 'nan', 'nan', 'nan', 'nan', 'nan', 'nan', 'nan', 'nan', 'nan', 'nan', 'approve', 'inspired word', 'nan', 'yes', 'strongly oppose pref', 'agree strongly', 'pretty happy', 'nan', 'nan', 'nan', 'nan', 'lookout for self', 'take advantage', \"can't be too careful\", 'only some', 'hardly any', 'only some', 'only some', 'only some', 'only some', 'hardly any', 'only some', 'only some', 'only some', 'only some', 'only some', 'nan', '2nd important', 'least important', 'most important', '3rd important', '4th important', 'sev times a week', 'once a month', 'sev times a week', 'never', 'a bad idea', 'b', 'nan', 'not too likely', 'very easy', 'very satisfied', 'nan', 'working class', 'c', 'satisfied', 'stayed same', 'average', 'yes', 'yes', 'yes', 'yes', 'no', 'nan', 'no', 'nan', 'no', 'neither belongs', 'neither belongs', 'nan', 'much better', 'much better', 'disagree', 'nan', 'nan', 'nan', 'nan', 'nan', 'nan', 'nan', 'c', 'disagree', 'favor', 'stay same', 'not wrong at all', 'sometimes wrong', 'nan', 'nan', 'illegal under 18', 'no', 'agree', 'yes', 'yes', 'no', 'no', 'no', 'nan', 'no', 'yes', 'yes', 'yes', 'nan', 'nan', 'nan', 'nan', 'nan', 'nan', 'nan', 'nan', 'never', 'c', 'cellphone', 'friendly,interested', 'fair', 'standard <x>', 'b', 'disagree', 'disagree', 'disagree', 'no', 'no', 'no', 'yes', 'c', 'c', 'b', 'e', 'know god exists', 'yes', 'no', 'e', 'c', 'c', 'c', 'c', 'c', 'c', 'e', 'e', 'e', 'neither favor nor oppose', 'neither favor nor oppose', 'neither favor nor oppose', 'neither favor nor oppose', 'neither favor nor oppose', 'nan', 'nan', 'e', 'nan', 'strongly against', 'somewhat unlikely', 'nan', 'nan', 'e', 'nan', 'nan', 'nan', 'nan', 'nan', 'nan', 'nan', 'nan', 'nan', 'nan', 'nan', 'nan', 'nan', 'nan', 'nan', 'nan', 'nan', 'nan', 'nan', 'nan', 'nan', 'nan', 'nan', 'nan', 'nan', 'nan', 'nan', 'nan', 'nan', 'nan', 'nan', 'nan', 'nan', 'nan', 'nan', 'nan', 'nan', 'nan', 'nan', 'nan', 'nan', 'nan', 'nan', 'nan', 'nan', 'nan', 'nan', 'nan', 'nan', 'nan', 'nan', 'nan', 'nan', 'nan', 'e', 'e', 'e', 'e', 'e', 'e', 'e', 'e', 'e', 'e', 'nan', 'nan', 'nan', 'nan', 'nan', 'e', 'e', 'e', 'e', 'e', 'e', 'e', 'e', 'e', 'e', 'e', 'e', 'e', 'e', 'e', 'e', 'e', 'e', 'e', 'e', 'nan', 'nan', 'nan', 'nan', 'nan', 'nan', 'nan', 'nan', 'nan', 'nan', 'nan', 'slight religious', 'modeate spirtual', 'yes', 'spanish', 'nan', 'very well', 'language 1', 'yes', 'nan', 'c', 'd', 'nan', 'e', 'c', 'clean', 'nan', 'c', 'c', 'afternoon shift', 'c', 'no', 'never', 'nan', 'not at all hard', 'rarely', 'rarely', 'c', 'no', 'agree', 'strongly agree', 'agree', 'disagree', 'strongly agree', 'strongly agree', 'strongly agree', 'strongly agree', 'strongly agree', 'strongly agree', 'strongly agree', 'strongly agree', 'strongly agree', 'strongly agree', 'strongly agree', 'strongly agree', 'yes, i work as part of a team', 'sometimes', 'sometimes', 'somewhat true', 'very true', 'very true', 'very true', 'very true', 'very true', 'very true', 'very true', 'very true', 'very true', 'very true', 'very true', 'very true', 'very true', 'very good', 'no', 'no', 'yes', 'about as much as you deserve', 'no', 'no', 'very easy to find similar job', 'not at all likely', 'no', 'no', 'no', 'no', 'no', 'good', 'c', 'c', 'c', 'rarely', 'no', 'no', 'c', 'very true', 'no', 'very light', 'rarely', 'very satisfied', 'one week or less', 'd', 'nan', 'no', 'no', 'no', 'yes', 'b', 'a', 'c', 'c', 'b', 'e', 'nan', 'nan', 'nan', 'nan', 'nan', 'good', 'good', 'very good', 'very good', 'very good', 'completely', 'c', 'mild', 'c', 'it depends', 'nan', 'it depends', 'hard', 'make it easier', 'yes', 'no', 'yes', 'yes', 'a woman and her medical professional should decide', 'nan', 'people should be able', 'nan', 'nan', 'nan', 'nan', 'nan', 'nan', 'nan', 'nan', 'nan', 'nan', 'e', 'nan', 'nan', 'nan', 'nan', 'nan', 'nan', 'nan', 'nan', 'nan', 'nan', 'nan', 'nan', 'nan', 'nan', 'nan', 'nan', 'nan', 'nan', 'nan', 'nan', 'nan', 'nan', 'nan', 'nan', 'nan', 'nan', 'for-profit company', 'no, i do not own and do not know if my company has stock', 'e', 'no', 'nan', 'nan', 'nan', 'nan', 'nan', 'e', 'e', 'e', 'e', 'nan', 'tv', 'the internet', 'the internet', 'strongly agree', 'disagree', 'strongly agree', 'no', 'not at all scientific', 'about equal if volunteered', 'nan', 'nan', 'general sense', 'classification', '500 get the drug 500 dont', 'correct wrong reason', 'no', 'yes', 'True', 'nan', 'False', 'False', 'False', 'False', 'nan', 'False', 'nan', 'True', 'False', 'nan', 'earth around sun', 'one year', 'nan', 'nan', 'no', 'e', 'two years of algebra', 'yes', 'yes', 'yes', 'nan', 'nan', 'nan', 'moderately interested', 'moderately interested', 'very interested', 'moderately interested', 'very interested', 'moderately interested', 'very interested', 'moderately interested', 'very interested', 'very interested', 'c', 'c', 'c', 'nan', 'nan', 'online newspapers', 'strongly agree', 'strongly agree', 'disagree', 'strongly agree', 'e', 'e', 'd', 'no', 'yes', 'yes', 'nan', 'nan', 'no', 'i would be neither more nor less likely to buy from an employee-owned company', 'i would be neutral', \"a company whose stock is owned by the employees who appoint the management to run the company's operations\", 'nan', 'nan', 'c', 'nan', 'nan', 'nan', 'no steady partner', 'nan', 'not married, no cohabitating partner', 'nan', 'nan', 'nan', 'nan', 'nan', 'nan', 'nan', 'nan', 'nan', 'nan', 'nan', 'nan', 'nan', 'nan', 'nan', 'nan', 'nan', 'nan', 'nan', 'nan', 'nan', 'nan', 'nan', 'nan', 'nan', 'nan', 'nan', 'nan', 'nan', 'nan', 'nan', 'nan', 'e', 'e', 'nan', 'nan', 'nan', 'nan', 'nan', 'nan', 'nan', 'nan', 'nan', 'nan', 'nan', 'e', 'good', 'nan', 'nan', 'nan', 'nan', 'nan', 'nan', 'neither', 'nan', 'nan', 'strongly disagree', 'nan', 'disagree', 'neither satisfied nor dissatisfied', 'hardly ever', 'doesnt supervise', '10-49', 'fairly happy', 'always wrong', 'not wrong at all', 'wrong only sometimes', 'some confidence', 'very little confidence', 'some confidence', 'some confidence', 'some confidence', 'strongly agree', 'too little power', 'believe now, always have', 'yes, probably', 'yes, definitely', 'yes, definitely', 'yes, definitely', 'strongly agree', 'strongly disagree', 'neither agree nor disagree', 'disagree', 'strongly agree', 'catholic', 'nan', 'catholic', 'nan', 'catholic', 'nan', 'less than once a yr', 'less than once a yr', 'every week', 'every week', 'less than once a year', 'yes', 'somwhat relgious', 'nan', 'nan', 'strong disagree', 'not agree/dsagre', 'agree', 'definitely accept', 'probably', 'probably', 'no, probably not', 'strongly agree', 'treats men better than women', 'no', 'never', 'i follow a religion, but dont consider myself to be a spiritual person interested in the sacred and', 'neither agree nor disagree', 'agree', 'neither agree nor disagree', 'strongly agree', 'strongly disagree', 'strongly disagree', 'strongly disagree', 'neither positive nor negative', 'neither positive nor negative', 'nan', 'nan', 'neither positive nor negative', 'neither positive nor negative', 'nan', 'nan', 'nan', 'nan', 'nan', 'nan', 'increased a little', '1 partner', 'yes', 'nan', 'nan', 'nan', 'nan', 'nan', 'exclusively male', 'once or twice', 'c', 'c', '1 partner', 'exclusively male', 'no', 'never married', 'used last time', 'yes, in relationship', 'no', 'nan', 'no', 'nan', 'no', 'e', 'nan', 'heterosexual or straight', 'female', 'women', 'nan', 'e', 'nan', 'nan', 'nan', 'e', 'e', 'e', 'e', 'spain', 'spain', 'nan', 'nan', 'names 1', 'salvadorian', 'hispanic', 'nan', 'nan', 'nan', 'nan', 'e', 'e', 'none', 'detached 1-fam house', 'pays rent', 'paid rent', 'correct', 'correct', 'incorrect', 'incorrect', 'incorrect', 'incorrect', 'incorrect', 'correct', 'incorrect', 'incorrect', 'b', 'male', 'c', 'never married', 'another household', 'non-relative', 'female', 'c', 'never married', 'nan', 'child', 'female', 'c', 'never married', 'nan', 'child', 'female', 'c', 'never married', 'nan', 'child', 'male', 'c', 'nan', 'nan', 'nan', 'nan', 'e', 'nan', 'nan', 'nan', 'nan', 'e', 'nan', 'nan', 'e', 'nan', 'nan', 'e', 'nan', 'e', 'nan', 'nan', 'e', 'nan', 'nan', 'nan', 'e', 'nan', 'partner,fiance-e-,boyfriend,girlfriend,etc', 'child,natural or adopted,stepchild', 'child,natural or adopted,stepchild', 'child,natural or adopted,stepchild', 'nan', 'nan', 'nan', 'nan', 'nan', 'nan', 'nan', '3rd person', 'other, mixed', '3rd person', '3adlts,0mar,ntrel,rel,1+kids', 'other family w children', '2 gens, children', 'child', 'r. is household member', 'no visitors', 'partner,girl(boy)friend', 'biological child', 'biological child', 'biological child', 'nan', 'nan', 'nan', 'nan', 'nan', 'nan', 'nan', 'partner, fiance, boyfriend, girlfriend, etc', 'biological child', 'biological child', 'biological child', 'nan', 'nan', 'nan', 'nan', 'nan', 'nan', 'nan', '717', 'c', 'd', 'e', 'e', 'sales demonstrators', 'heavy truck and lorry drivers', 'nan', 'nan', 'nan', 'c', 'c', 'c', 'c', 'c', 'c', 'e', 'e', 'e', 'e', 'e', 'e', 'e', 'e', 'e', 'e', 'e', 'nan', 'd', 'capricorn', 'not hispanic', 'white', 'nan', 'nan', 'no', 'no', 'no', 'no', 'no', 'yes', '50', 'yes, money', 'd', '114', '49', 'white', 'in-person', 'female', '0', 'r consents to recording interview', 'ballot b', '2', 'did issp', '609', 'phase one - initial cases', 'nan', 'nan', 'english', 'nan', 'yes', 'detached single family house', 'yes', 'high', 'average', 'somewhat safe', 'about average', 'about average', 'about the right weight', 'good', 'c', 'c', 'c', '3328', '1']\n"
     ]
    },
    {
     "name": "stdout",
     "output_type": "stream",
     "text": [
      "['retired' 'e' 'e' ... 'c' '3350' '2']\n",
      "(1034,)\n",
      "['working parttime' 'b' 'e' ... 'c' '3328' '1']\n",
      "(1034,)\n",
      "(1034,)\n",
      "0.0\n"
     ]
    },
    {
     "ename": "NameError",
     "evalue": "name 'qdistance' is not defined",
     "output_type": "error",
     "traceback": [
      "\u001b[0;31m---------------------------------------------------------------------------\u001b[0m",
      "\u001b[0;31mNameError\u001b[0m                                 Traceback (most recent call last)",
      "\u001b[0;32m<ipython-input-5-b25e9e54352a>\u001b[0m in \u001b[0;36m<module>\u001b[0;34m\u001b[0m\n\u001b[1;32m     16\u001b[0m \u001b[0mdistance\u001b[0m \u001b[0;34m=\u001b[0m \u001b[0mCg\u001b[0m\u001b[0;34m.\u001b[0m\u001b[0mdistance\u001b[0m\u001b[0;34m(\u001b[0m\u001b[0msamples\u001b[0m\u001b[0;34m[\u001b[0m\u001b[0;36m1\u001b[0m\u001b[0;34m]\u001b[0m\u001b[0;34m,\u001b[0m\u001b[0msamples\u001b[0m\u001b[0;34m[\u001b[0m\u001b[0;36m3\u001b[0m\u001b[0;34m]\u001b[0m\u001b[0;34m,\u001b[0m\u001b[0mnsteps1\u001b[0m\u001b[0;34m=\u001b[0m\u001b[0;36m5\u001b[0m\u001b[0;34m,\u001b[0m \u001b[0mnsteps2\u001b[0m\u001b[0;34m=\u001b[0m\u001b[0;36m5\u001b[0m\u001b[0;34m)\u001b[0m\u001b[0;34m\u001b[0m\u001b[0m\n\u001b[1;32m     17\u001b[0m \u001b[0mprint\u001b[0m\u001b[0;34m(\u001b[0m\u001b[0mdistance\u001b[0m\u001b[0;34m)\u001b[0m\u001b[0;34m\u001b[0m\u001b[0m\n\u001b[0;32m---> 18\u001b[0;31m \u001b[0mqdistance_\u001b[0m \u001b[0;34m=\u001b[0m \u001b[0mqdistance\u001b[0m\u001b[0;34m(\u001b[0m\u001b[0msamples\u001b[0m\u001b[0;34m[\u001b[0m\u001b[0;36m1\u001b[0m\u001b[0;34m]\u001b[0m\u001b[0;34m,\u001b[0m\u001b[0msamples\u001b[0m\u001b[0;34m[\u001b[0m\u001b[0;36m3\u001b[0m\u001b[0;34m]\u001b[0m\u001b[0;34m,\u001b[0m\u001b[0mCg\u001b[0m\u001b[0;34m.\u001b[0m\u001b[0mqnet\u001b[0m\u001b[0;34m,\u001b[0m\u001b[0mCg\u001b[0m\u001b[0;34m.\u001b[0m\u001b[0mqnet\u001b[0m\u001b[0;34m)\u001b[0m\u001b[0;34m\u001b[0m\u001b[0m\n\u001b[0m\u001b[1;32m     19\u001b[0m \u001b[0mprint\u001b[0m\u001b[0;34m(\u001b[0m\u001b[0;34m\"actual:{}\"\u001b[0m\u001b[0;34m.\u001b[0m\u001b[0mformat\u001b[0m\u001b[0;34m(\u001b[0m\u001b[0mqdistance_\u001b[0m\u001b[0;34m)\u001b[0m\u001b[0;34m)\u001b[0m\u001b[0;34m\u001b[0m\u001b[0m\n\u001b[1;32m     20\u001b[0m \u001b[0;31m#distance = Cg.distance(data.samples[0],data.samples[1])\u001b[0m\u001b[0;34m\u001b[0m\u001b[0;34m\u001b[0m\u001b[0m\n",
      "\u001b[0;31mNameError\u001b[0m: name 'qdistance' is not defined"
     ]
    }
   ],
   "source": [
    "# set some paramaters in instantiating cognet class \n",
    "# also setup Dnull, and nullbaseFreq\n",
    "# if loading from model obj, no need to load_data, otherwise, load_data\n",
    "\n",
    "Cg = cognet()\n",
    "Cg.load_from_model(model_)\n",
    "\n",
    "# distance calculation for individual samples    \n",
    "# we have a nsteps parameter (for sample 1 and sample2)\n",
    "# which qsamples the sample1 and sample2 if set before\n",
    "# computing distance. Note qsampling must only \n",
    "# change mutable varaibles, so need to compute base-freq\n",
    "print(type(samples))\n",
    "print(list(samples[1]))\n",
    "print(list(samples[3]))\n",
    "distance = Cg.distance(samples[1],samples[3],nsteps1=5, nsteps2=5)\n",
    "print(distance)\n",
    "qdistance_ = qdistance(samples[1],samples[3],Cg.qnet,Cg.qnet)\n",
    "print(\"actual:{}\".format(qdistance_))\n",
    "#distance = Cg.distance(data.samples[0],data.samples[1])\n",
    "#distance = Cg.distance(data.test[0],data.test[1])"
   ]
  },
  {
   "cell_type": "code",
   "execution_count": 6,
   "metadata": {},
   "outputs": [
    {
     "name": "stdout",
     "output_type": "stream",
     "text": [
      "4 pole features not found in sample features\n",
      "testing polar_separation\n",
      "[['' '' '' ... '' '' '']\n",
      " ['' '' '' ... '' '' '']]\n"
     ]
    }
   ],
   "source": [
    "# produce stats on how many column names actually match\n",
    "stats = Cg.set_poles(POLEFILE,steps=2)\n",
    "\n",
    "# compute polar distance matrix\n",
    "dmatrix = Cg.polar_separation(nsteps=0)\n",
    "\n",
    "# the following are for single samples\n",
    "#------------------\n",
    "dissonance_array = Cg.dissonance(1)\n",
    "returndict = {}\n",
    "rederr,r_prob,rand_err = Cg.randomMaskReconstruction(returndict, index=1)# sample=np.array(samples[1]))\n",
    "#ideology_index = Cg.compute_DLI_sample(3)\n",
    "Cg.num_qsamples = 5\n",
    "ideology_index = Cg.compute_DLI_sample(3)\n",
    "\n",
    "# get dispersion of an individual sample\n",
    "Qmax, Qstd = Cg.dispersion(3)\n",
    "# compute distance from each pole\n",
    "#array_distances = Cg.polarDistance(samples[1])\n",
    "#-------------------"
   ]
  },
  {
   "cell_type": "code",
   "execution_count": 7,
   "metadata": {},
   "outputs": [
    {
     "name": "stdout",
     "output_type": "stream",
     "text": [
      "['' '' '' ... '' '' '']\n",
      "(1034,)\n",
      "['' '' '' ... '' '' '']\n",
      "(1034,)\n",
      "(1034,)\n",
      "['' '' '' ... '' '' '']\n",
      "(1034,)\n",
      "['' '' '' ... '' '' '']\n",
      "(1034,)\n",
      "(1034,)\n"
     ]
    }
   ],
   "source": [
    "array_distances = Cg.polarDistance(1)"
   ]
  },
  {
   "cell_type": "code",
   "execution_count": 8,
   "metadata": {},
   "outputs": [
    {
     "name": "stdout",
     "output_type": "stream",
     "text": [
      "<class 'pandas.core.series.Series'>\n",
      "['no' 'always wrong' 'no' 'no' 'no' 'no' 'always wrong' 'no' 'no'\n",
      " 'inspired word' 'fired' 'not fired' 'strongly agree' 'hardly any'\n",
      " 'believe now, always have' 'not legal' 'oppose' 'very interested'\n",
      " 'remove' 'not remove' 'remove' 'remove' 'true' 'yes' 'strongly disagree'\n",
      " 'strongly disagree' 'no' 'several times a day' 'disapprove'\n",
      " 'several times a day' 'strongly disagree' 'strongly disagree' 'strong'\n",
      " 'yes' 'yes' 'not allowed' 'allowed' 'about right' 'definitely true']\n"
     ]
    },
    {
     "ename": "KeyError",
     "evalue": "\"Passing list-likes to .loc or [] with any missing labels is no longer supported. The following labels were missing: Index(['wrkstat', 'HRS1', 'HRS2', 'evwork', 'wrkslf',\\n       ...\\n       'wtss', 'wtssnr', 'wtssall', 'vstrat', 'vpsu'],\\n      dtype='object', length=999). See https://pandas.pydata.org/pandas-docs/stable/user_guide/indexing.html#deprecate-loc-reindex-listlike\"",
     "output_type": "error",
     "traceback": [
      "\u001b[0;31m---------------------------------------------------------------------------\u001b[0m",
      "\u001b[0;31mKeyError\u001b[0m                                  Traceback (most recent call last)",
      "\u001b[0;32m<ipython-input-8-8be69c964906>\u001b[0m in \u001b[0;36m<module>\u001b[0;34m\u001b[0m\n\u001b[1;32m      2\u001b[0m     \u001b[0mprint\u001b[0m\u001b[0;34m(\u001b[0m\u001b[0mtype\u001b[0m\u001b[0;34m(\u001b[0m\u001b[0mrow\u001b[0m\u001b[0;34m)\u001b[0m\u001b[0;34m)\u001b[0m\u001b[0;34m\u001b[0m\u001b[0m\n\u001b[1;32m      3\u001b[0m     \u001b[0mprint\u001b[0m\u001b[0;34m(\u001b[0m\u001b[0mnp\u001b[0m\u001b[0;34m.\u001b[0m\u001b[0marray\u001b[0m\u001b[0;34m(\u001b[0m\u001b[0mrow\u001b[0m\u001b[0;34m)\u001b[0m\u001b[0;34m)\u001b[0m\u001b[0;34m\u001b[0m\u001b[0m\n\u001b[0;32m----> 4\u001b[0;31m     \u001b[0mrow\u001b[0m \u001b[0;34m=\u001b[0m \u001b[0mrow\u001b[0m\u001b[0;34m[\u001b[0m\u001b[0mCg\u001b[0m\u001b[0;34m.\u001b[0m\u001b[0mcols\u001b[0m\u001b[0;34m]\u001b[0m\u001b[0;34m.\u001b[0m\u001b[0mfillna\u001b[0m\u001b[0;34m(\u001b[0m\u001b[0;34m''\u001b[0m\u001b[0;34m)\u001b[0m\u001b[0;34m.\u001b[0m\u001b[0mvalues\u001b[0m\u001b[0;34m.\u001b[0m\u001b[0mastype\u001b[0m\u001b[0;34m(\u001b[0m\u001b[0mstr\u001b[0m\u001b[0;34m)\u001b[0m\u001b[0;34m[\u001b[0m\u001b[0;34m:\u001b[0m\u001b[0;34m]\u001b[0m\u001b[0;34m\u001b[0m\u001b[0m\n\u001b[0m\u001b[1;32m      5\u001b[0m     \u001b[0mprint\u001b[0m\u001b[0;34m(\u001b[0m\u001b[0mrow\u001b[0m\u001b[0;34m.\u001b[0m\u001b[0mshape\u001b[0m\u001b[0;34m)\u001b[0m\u001b[0;34m\u001b[0m\u001b[0m\n\u001b[1;32m      6\u001b[0m \u001b[0mprint\u001b[0m\u001b[0;34m(\u001b[0m\u001b[0mCg\u001b[0m\u001b[0;34m.\u001b[0m\u001b[0msamples_as_strings\u001b[0m\u001b[0;34m[\u001b[0m\u001b[0;36m1\u001b[0m\u001b[0;34m]\u001b[0m\u001b[0;34m.\u001b[0m\u001b[0mshape\u001b[0m\u001b[0;34m)\u001b[0m\u001b[0;34m\u001b[0m\u001b[0m\n",
      "\u001b[0;32m~/.local/lib/python3.7/site-packages/pandas/core/series.py\u001b[0m in \u001b[0;36m__getitem__\u001b[0;34m(self, key)\u001b[0m\n\u001b[1;32m    904\u001b[0m             \u001b[0;32mreturn\u001b[0m \u001b[0mself\u001b[0m\u001b[0;34m.\u001b[0m\u001b[0m_get_values\u001b[0m\u001b[0;34m(\u001b[0m\u001b[0mkey\u001b[0m\u001b[0;34m)\u001b[0m\u001b[0;34m\u001b[0m\u001b[0m\n\u001b[1;32m    905\u001b[0m \u001b[0;34m\u001b[0m\u001b[0m\n\u001b[0;32m--> 906\u001b[0;31m         \u001b[0;32mreturn\u001b[0m \u001b[0mself\u001b[0m\u001b[0;34m.\u001b[0m\u001b[0m_get_with\u001b[0m\u001b[0;34m(\u001b[0m\u001b[0mkey\u001b[0m\u001b[0;34m)\u001b[0m\u001b[0;34m\u001b[0m\u001b[0m\n\u001b[0m\u001b[1;32m    907\u001b[0m \u001b[0;34m\u001b[0m\u001b[0m\n\u001b[1;32m    908\u001b[0m     \u001b[0;32mdef\u001b[0m \u001b[0m_get_with\u001b[0m\u001b[0;34m(\u001b[0m\u001b[0mself\u001b[0m\u001b[0;34m,\u001b[0m \u001b[0mkey\u001b[0m\u001b[0;34m)\u001b[0m\u001b[0;34m:\u001b[0m\u001b[0;34m\u001b[0m\u001b[0m\n",
      "\u001b[0;32m~/.local/lib/python3.7/site-packages/pandas/core/series.py\u001b[0m in \u001b[0;36m_get_with\u001b[0;34m(self, key)\u001b[0m\n\u001b[1;32m    944\u001b[0m \u001b[0;34m\u001b[0m\u001b[0m\n\u001b[1;32m    945\u001b[0m         \u001b[0;31m# handle the dup indexing case GH#4246\u001b[0m\u001b[0;34m\u001b[0m\u001b[0;34m\u001b[0m\u001b[0m\n\u001b[0;32m--> 946\u001b[0;31m         \u001b[0;32mreturn\u001b[0m \u001b[0mself\u001b[0m\u001b[0;34m.\u001b[0m\u001b[0mloc\u001b[0m\u001b[0;34m[\u001b[0m\u001b[0mkey\u001b[0m\u001b[0;34m]\u001b[0m\u001b[0;34m\u001b[0m\u001b[0m\n\u001b[0m\u001b[1;32m    947\u001b[0m \u001b[0;34m\u001b[0m\u001b[0m\n\u001b[1;32m    948\u001b[0m     \u001b[0;32mdef\u001b[0m \u001b[0m_get_values_tuple\u001b[0m\u001b[0;34m(\u001b[0m\u001b[0mself\u001b[0m\u001b[0;34m,\u001b[0m \u001b[0mkey\u001b[0m\u001b[0;34m)\u001b[0m\u001b[0;34m:\u001b[0m\u001b[0;34m\u001b[0m\u001b[0m\n",
      "\u001b[0;32m~/.local/lib/python3.7/site-packages/pandas/core/indexing.py\u001b[0m in \u001b[0;36m__getitem__\u001b[0;34m(self, key)\u001b[0m\n\u001b[1;32m    877\u001b[0m \u001b[0;34m\u001b[0m\u001b[0m\n\u001b[1;32m    878\u001b[0m             \u001b[0mmaybe_callable\u001b[0m \u001b[0;34m=\u001b[0m \u001b[0mcom\u001b[0m\u001b[0;34m.\u001b[0m\u001b[0mapply_if_callable\u001b[0m\u001b[0;34m(\u001b[0m\u001b[0mkey\u001b[0m\u001b[0;34m,\u001b[0m \u001b[0mself\u001b[0m\u001b[0;34m.\u001b[0m\u001b[0mobj\u001b[0m\u001b[0;34m)\u001b[0m\u001b[0;34m\u001b[0m\u001b[0m\n\u001b[0;32m--> 879\u001b[0;31m             \u001b[0;32mreturn\u001b[0m \u001b[0mself\u001b[0m\u001b[0;34m.\u001b[0m\u001b[0m_getitem_axis\u001b[0m\u001b[0;34m(\u001b[0m\u001b[0mmaybe_callable\u001b[0m\u001b[0;34m,\u001b[0m \u001b[0maxis\u001b[0m\u001b[0;34m=\u001b[0m\u001b[0maxis\u001b[0m\u001b[0;34m)\u001b[0m\u001b[0;34m\u001b[0m\u001b[0m\n\u001b[0m\u001b[1;32m    880\u001b[0m \u001b[0;34m\u001b[0m\u001b[0m\n\u001b[1;32m    881\u001b[0m     \u001b[0;32mdef\u001b[0m \u001b[0m_is_scalar_access\u001b[0m\u001b[0;34m(\u001b[0m\u001b[0mself\u001b[0m\u001b[0;34m,\u001b[0m \u001b[0mkey\u001b[0m\u001b[0;34m:\u001b[0m \u001b[0mTuple\u001b[0m\u001b[0;34m)\u001b[0m\u001b[0;34m:\u001b[0m\u001b[0;34m\u001b[0m\u001b[0m\n",
      "\u001b[0;32m~/.local/lib/python3.7/site-packages/pandas/core/indexing.py\u001b[0m in \u001b[0;36m_getitem_axis\u001b[0;34m(self, key, axis)\u001b[0m\n\u001b[1;32m   1097\u001b[0m                     \u001b[0;32mraise\u001b[0m \u001b[0mValueError\u001b[0m\u001b[0;34m(\u001b[0m\u001b[0;34m\"Cannot index with multidimensional key\"\u001b[0m\u001b[0;34m)\u001b[0m\u001b[0;34m\u001b[0m\u001b[0m\n\u001b[1;32m   1098\u001b[0m \u001b[0;34m\u001b[0m\u001b[0m\n\u001b[0;32m-> 1099\u001b[0;31m                 \u001b[0;32mreturn\u001b[0m \u001b[0mself\u001b[0m\u001b[0;34m.\u001b[0m\u001b[0m_getitem_iterable\u001b[0m\u001b[0;34m(\u001b[0m\u001b[0mkey\u001b[0m\u001b[0;34m,\u001b[0m \u001b[0maxis\u001b[0m\u001b[0;34m=\u001b[0m\u001b[0maxis\u001b[0m\u001b[0;34m)\u001b[0m\u001b[0;34m\u001b[0m\u001b[0m\n\u001b[0m\u001b[1;32m   1100\u001b[0m \u001b[0;34m\u001b[0m\u001b[0m\n\u001b[1;32m   1101\u001b[0m             \u001b[0;31m# nested tuple slicing\u001b[0m\u001b[0;34m\u001b[0m\u001b[0;34m\u001b[0m\u001b[0m\n",
      "\u001b[0;32m~/.local/lib/python3.7/site-packages/pandas/core/indexing.py\u001b[0m in \u001b[0;36m_getitem_iterable\u001b[0;34m(self, key, axis)\u001b[0m\n\u001b[1;32m   1035\u001b[0m \u001b[0;34m\u001b[0m\u001b[0m\n\u001b[1;32m   1036\u001b[0m         \u001b[0;31m# A collection of keys\u001b[0m\u001b[0;34m\u001b[0m\u001b[0;34m\u001b[0m\u001b[0m\n\u001b[0;32m-> 1037\u001b[0;31m         \u001b[0mkeyarr\u001b[0m\u001b[0;34m,\u001b[0m \u001b[0mindexer\u001b[0m \u001b[0;34m=\u001b[0m \u001b[0mself\u001b[0m\u001b[0;34m.\u001b[0m\u001b[0m_get_listlike_indexer\u001b[0m\u001b[0;34m(\u001b[0m\u001b[0mkey\u001b[0m\u001b[0;34m,\u001b[0m \u001b[0maxis\u001b[0m\u001b[0;34m,\u001b[0m \u001b[0mraise_missing\u001b[0m\u001b[0;34m=\u001b[0m\u001b[0;32mFalse\u001b[0m\u001b[0;34m)\u001b[0m\u001b[0;34m\u001b[0m\u001b[0m\n\u001b[0m\u001b[1;32m   1038\u001b[0m         return self.obj._reindex_with_indexers(\n\u001b[1;32m   1039\u001b[0m             \u001b[0;34m{\u001b[0m\u001b[0maxis\u001b[0m\u001b[0;34m:\u001b[0m \u001b[0;34m[\u001b[0m\u001b[0mkeyarr\u001b[0m\u001b[0;34m,\u001b[0m \u001b[0mindexer\u001b[0m\u001b[0;34m]\u001b[0m\u001b[0;34m}\u001b[0m\u001b[0;34m,\u001b[0m \u001b[0mcopy\u001b[0m\u001b[0;34m=\u001b[0m\u001b[0;32mTrue\u001b[0m\u001b[0;34m,\u001b[0m \u001b[0mallow_dups\u001b[0m\u001b[0;34m=\u001b[0m\u001b[0;32mTrue\u001b[0m\u001b[0;34m\u001b[0m\u001b[0m\n",
      "\u001b[0;32m~/.local/lib/python3.7/site-packages/pandas/core/indexing.py\u001b[0m in \u001b[0;36m_get_listlike_indexer\u001b[0;34m(self, key, axis, raise_missing)\u001b[0m\n\u001b[1;32m   1252\u001b[0m             \u001b[0mkeyarr\u001b[0m\u001b[0;34m,\u001b[0m \u001b[0mindexer\u001b[0m\u001b[0;34m,\u001b[0m \u001b[0mnew_indexer\u001b[0m \u001b[0;34m=\u001b[0m \u001b[0max\u001b[0m\u001b[0;34m.\u001b[0m\u001b[0m_reindex_non_unique\u001b[0m\u001b[0;34m(\u001b[0m\u001b[0mkeyarr\u001b[0m\u001b[0;34m)\u001b[0m\u001b[0;34m\u001b[0m\u001b[0m\n\u001b[1;32m   1253\u001b[0m \u001b[0;34m\u001b[0m\u001b[0m\n\u001b[0;32m-> 1254\u001b[0;31m         \u001b[0mself\u001b[0m\u001b[0;34m.\u001b[0m\u001b[0m_validate_read_indexer\u001b[0m\u001b[0;34m(\u001b[0m\u001b[0mkeyarr\u001b[0m\u001b[0;34m,\u001b[0m \u001b[0mindexer\u001b[0m\u001b[0;34m,\u001b[0m \u001b[0maxis\u001b[0m\u001b[0;34m,\u001b[0m \u001b[0mraise_missing\u001b[0m\u001b[0;34m=\u001b[0m\u001b[0mraise_missing\u001b[0m\u001b[0;34m)\u001b[0m\u001b[0;34m\u001b[0m\u001b[0m\n\u001b[0m\u001b[1;32m   1255\u001b[0m         \u001b[0;32mreturn\u001b[0m \u001b[0mkeyarr\u001b[0m\u001b[0;34m,\u001b[0m \u001b[0mindexer\u001b[0m\u001b[0;34m\u001b[0m\u001b[0m\n\u001b[1;32m   1256\u001b[0m \u001b[0;34m\u001b[0m\u001b[0m\n",
      "\u001b[0;32m~/.local/lib/python3.7/site-packages/pandas/core/indexing.py\u001b[0m in \u001b[0;36m_validate_read_indexer\u001b[0;34m(self, key, indexer, axis, raise_missing)\u001b[0m\n\u001b[1;32m   1314\u001b[0m                 \u001b[0;32mwith\u001b[0m \u001b[0moption_context\u001b[0m\u001b[0;34m(\u001b[0m\u001b[0;34m\"display.max_seq_items\"\u001b[0m\u001b[0;34m,\u001b[0m \u001b[0;36m10\u001b[0m\u001b[0;34m,\u001b[0m \u001b[0;34m\"display.width\"\u001b[0m\u001b[0;34m,\u001b[0m \u001b[0;36m80\u001b[0m\u001b[0;34m)\u001b[0m\u001b[0;34m:\u001b[0m\u001b[0;34m\u001b[0m\u001b[0m\n\u001b[1;32m   1315\u001b[0m                     raise KeyError(\n\u001b[0;32m-> 1316\u001b[0;31m                         \u001b[0;34m\"Passing list-likes to .loc or [] with any missing labels \"\u001b[0m\u001b[0;34m\u001b[0m\u001b[0m\n\u001b[0m\u001b[1;32m   1317\u001b[0m                         \u001b[0;34m\"is no longer supported. \"\u001b[0m\u001b[0;34m\u001b[0m\u001b[0m\n\u001b[1;32m   1318\u001b[0m                         \u001b[0;34mf\"The following labels were missing: {not_found}. \"\u001b[0m\u001b[0;34m\u001b[0m\u001b[0m\n",
      "\u001b[0;31mKeyError\u001b[0m: \"Passing list-likes to .loc or [] with any missing labels is no longer supported. The following labels were missing: Index(['wrkstat', 'HRS1', 'HRS2', 'evwork', 'wrkslf',\\n       ...\\n       'wtss', 'wtssnr', 'wtssall', 'vstrat', 'vpsu'],\\n      dtype='object', length=999). See https://pandas.pydata.org/pandas-docs/stable/user_guide/indexing.html#deprecate-loc-reindex-listlike\""
     ]
    }
   ],
   "source": [
    "for index, row in Cg.poles.iterrows():\n",
    "    print(type(row))\n",
    "    print(np.array(row))\n",
    "    row = row[Cg.cols].fillna('').values.astype(str)[:]\n",
    "    print(row.shape)\n",
    "print(Cg.samples_as_strings[1].shape)\n",
    "samples = Cg.samples[Cg.poles.columns]\n",
    "samples = Cg.samples[Cg.cols]\n",
    "print(samples.shape)"
   ]
  },
  {
   "cell_type": "code",
   "execution_count": 10,
   "metadata": {},
   "outputs": [
    {
     "name": "stdout",
     "output_type": "stream",
     "text": [
      "<class 'NoneType'>\n"
     ]
    }
   ],
   "source": [
    "print(type(Cg.poles))"
   ]
  },
  {
   "cell_type": "code",
   "execution_count": null,
   "metadata": {},
   "outputs": [],
   "source": [
    "\n",
    "#the following must use parallelization\n",
    "# next one must use mpi and hence will not run\n",
    "# with mpi without maybe a seprate script.\n",
    "# But look here: https://stackoverflow.com/questions/25772289/python-multiprocessing-within-mpi\n",
    "distance_matrix=Cg.qdistance_matrix(samples,nsteps=0)\n",
    "\n",
    "# multiprocessing suffices\n",
    "dissonance_array = Cg.dissonance_multiple(samples)\n",
    "# multiprocessing suffices\n",
    "dataframes,error_array = Cg.randomMaskReconstruction_multiple(samples)\n",
    "# multiprocessing suffices\n",
    "ideology_index = Cg.ideology_multiple(samples)\n",
    "# multiprocessing suffices\n",
    "local_dispersion = Cg.dispersion_multiple(samples)\n",
    "# compute distance from each pole\n",
    "# multiprocessing suffices\n",
    "array_distances = Cg.polarDistance_multiple(samples)\n",
    "#-------------------"
   ]
  }
 ],
 "metadata": {
  "interpreter": {
   "hash": "e7370f93d1d0cde622a1f8e1c04877d8463912d04d973331ad4851f04de6915a"
  },
  "kernelspec": {
   "display_name": "Python 3",
   "language": "python",
   "name": "python3"
  },
  "language_info": {
   "codemirror_mode": {
    "name": "ipython",
    "version": 3
   },
   "file_extension": ".py",
   "mimetype": "text/x-python",
   "name": "python",
   "nbconvert_exporter": "python",
   "pygments_lexer": "ipython3",
   "version": "3.7.0"
  }
 },
 "nbformat": 4,
 "nbformat_minor": 2
}
