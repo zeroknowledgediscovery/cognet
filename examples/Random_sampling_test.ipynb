{
 "cells": [
  {
   "cell_type": "code",
   "execution_count": 1,
   "id": "115b3e40-7657-45f2-aa72-d82739bf2916",
   "metadata": {},
   "outputs": [],
   "source": [
    "import sys\n",
    "\n",
    "from quasinet.qnet import qdistance\n",
    "from cognet.cognet import cognet as cg\n",
    "from cognet.dataFormatter import dataFormatter\n",
    "from cognet.model import model \n",
    "#import cognet.util\n",
    "import pandas as pd\n",
    "import numpy as np\n",
    "\n",
    "yr = '2018'\n",
    "POLEFILE='GSS/data/polar_vectors.csv'\n",
    "QPATH='GSS/data/gss_'+yr+'.joblib'\n",
    "IMMUTABLE_FILE='GSS/data/immutable.csv'\n",
    "GSSDATA = 'GSS/data/gss_'+yr+'.csv'\n",
    "import pandas as pd\n",
    "import numpy as np"
   ]
  },
  {
   "cell_type": "code",
   "execution_count": 2,
   "id": "faa8a18d-ecb6-4b8c-85b5-bfd34c9bfd3a",
   "metadata": {},
   "outputs": [
    {
     "data": {
      "text/plain": [
       "array([4, 1, 4, 4, 2, 2, 3, 4, 4, 4, 4, 1, 3, 2, 3, 3, 1, 2, 4, 4, 4, 1,\n",
       "       3, 3, 3, 4, 3, 3, 3, 4, 2, 4, 3, 2, 3, 3, 3, 2, 3, 3, 4, 3, 4, 4,\n",
       "       4, 3, 2, 3, 4, 2, 1, 4, 4, 1, 1, 3, 1, 3, 3, 4, 3, 4, 2, 4, 4, 4,\n",
       "       2, 4, 2, 4, 4, 4, 4, 4, 3, 2, 2, 3, 2, 4, 1, 2, 2, 4, 4, 4, 4, 4,\n",
       "       2, 3, 4, 1, 4, 3, 3, 2, 3, 4, 2, 3])"
      ]
     },
     "execution_count": 2,
     "metadata": {},
     "output_type": "execute_result"
    }
   ],
   "source": [
    "var1 = 10\n",
    "var2 = 20\n",
    "var3 = 30\n",
    "var4 = 40\n",
    "arr = np.array([1]*var1 + [2]*var2 + [3]*var3 + [4]*var4)\n",
    "np.random.shuffle(arr)\n",
    "arr"
   ]
  },
  {
   "cell_type": "code",
   "execution_count": 3,
   "id": "ceb4ca66-1337-4cf5-b078-8e3393f36c95",
   "metadata": {},
   "outputs": [
    {
     "data": {
      "text/html": [
       "<div>\n",
       "<style scoped>\n",
       "    .dataframe tbody tr th:only-of-type {\n",
       "        vertical-align: middle;\n",
       "    }\n",
       "\n",
       "    .dataframe tbody tr th {\n",
       "        vertical-align: top;\n",
       "    }\n",
       "\n",
       "    .dataframe thead th {\n",
       "        text-align: right;\n",
       "    }\n",
       "</style>\n",
       "<table border=\"1\" class=\"dataframe\">\n",
       "  <thead>\n",
       "    <tr style=\"text-align: right;\">\n",
       "      <th></th>\n",
       "      <th>0</th>\n",
       "    </tr>\n",
       "  </thead>\n",
       "  <tbody>\n",
       "    <tr>\n",
       "      <th>0</th>\n",
       "      <td>4</td>\n",
       "    </tr>\n",
       "    <tr>\n",
       "      <th>1</th>\n",
       "      <td>1</td>\n",
       "    </tr>\n",
       "    <tr>\n",
       "      <th>2</th>\n",
       "      <td>4</td>\n",
       "    </tr>\n",
       "    <tr>\n",
       "      <th>3</th>\n",
       "      <td>4</td>\n",
       "    </tr>\n",
       "    <tr>\n",
       "      <th>4</th>\n",
       "      <td>2</td>\n",
       "    </tr>\n",
       "    <tr>\n",
       "      <th>...</th>\n",
       "      <td>...</td>\n",
       "    </tr>\n",
       "    <tr>\n",
       "      <th>95</th>\n",
       "      <td>2</td>\n",
       "    </tr>\n",
       "    <tr>\n",
       "      <th>96</th>\n",
       "      <td>3</td>\n",
       "    </tr>\n",
       "    <tr>\n",
       "      <th>97</th>\n",
       "      <td>4</td>\n",
       "    </tr>\n",
       "    <tr>\n",
       "      <th>98</th>\n",
       "      <td>2</td>\n",
       "    </tr>\n",
       "    <tr>\n",
       "      <th>99</th>\n",
       "      <td>3</td>\n",
       "    </tr>\n",
       "  </tbody>\n",
       "</table>\n",
       "<p>100 rows × 1 columns</p>\n",
       "</div>"
      ],
      "text/plain": [
       "    0\n",
       "0   4\n",
       "1   1\n",
       "2   4\n",
       "3   4\n",
       "4   2\n",
       ".. ..\n",
       "95  2\n",
       "96  3\n",
       "97  4\n",
       "98  2\n",
       "99  3\n",
       "\n",
       "[100 rows x 1 columns]"
      ]
     },
     "execution_count": 3,
     "metadata": {},
     "output_type": "execute_result"
    }
   ],
   "source": [
    "df = pd.DataFrame(arr)\n",
    "df"
   ]
  },
  {
   "cell_type": "code",
   "execution_count": 38,
   "id": "1bff81a9-71a7-4c67-9836-f7a16c6ae952",
   "metadata": {},
   "outputs": [
    {
     "data": {
      "text/plain": [
       "array([2, 4, 4, 4, 3, 4, 3, 4, 2, 3, 4, 4, 4, 4, 2, 4, 1, 2, 4, 4, 4, 3,\n",
       "       3, 4, 3, 3, 2, 2, 2, 4, 1, 3, 3, 3, 3, 3, 3, 1, 3, 2, 4, 4, 2, 4,\n",
       "       4, 1, 1, 2, 4, 4, 4, 3, 4, 4, 3, 3, 2, 3, 3, 3, 4, 3, 1, 4, 4, 4,\n",
       "       4, 3, 4, 3, 4, 4, 3, 4, 4, 4, 3, 1, 4, 2, 1, 1, 4, 4, 2, 4, 4, 3,\n",
       "       2, 4, 3, 4, 4, 3, 3, 3, 2, 2, 3, 3, 2, 3, 3, 1, 4, 3, 3, 4, 3, 3,\n",
       "       3, 4, 2, 2, 4, 4, 4, 2, 3, 4, 3, 4, 4, 4, 3, 4, 3, 3, 2, 4, 4, 4,\n",
       "       3, 4, 1, 3, 4, 4, 4, 1, 4, 3, 4, 2, 3, 1, 4, 3, 4, 3, 2, 3, 3, 1,\n",
       "       2, 3, 3, 4, 4, 1, 4, 4, 4, 2, 3, 3, 4, 1, 4, 1, 2, 2, 3, 4, 3, 4,\n",
       "       2, 3, 3, 4, 4, 3, 4, 3, 4, 3, 4, 1, 4, 4, 3, 4, 2, 4, 3, 2, 4, 3,\n",
       "       4, 2, 4, 2, 4, 3, 3, 4, 4, 4, 4, 2, 3, 3, 3, 1, 2, 3, 2, 4, 3, 4,\n",
       "       3, 4, 4, 4, 3, 2, 4, 3, 4, 4, 4, 3, 3, 4, 4, 4, 4, 4, 3, 3, 3, 2,\n",
       "       2, 3, 1, 4, 1, 4, 4, 4, 3, 2, 4, 2, 4, 3, 2, 4, 3, 2, 2, 2, 4, 1,\n",
       "       2, 4, 2, 3, 4, 4, 1, 2, 3, 3, 1, 4, 2, 3, 1, 3, 4, 3, 2, 4, 1, 3,\n",
       "       1, 3, 4, 4, 3, 2, 4, 4, 1, 4, 4, 4, 2, 3, 4, 2, 4, 4, 3, 3, 1, 3,\n",
       "       1, 3, 4, 3, 4, 4, 4, 3, 3, 3, 2, 4, 3, 3, 4, 4, 1, 2, 4, 3, 4, 2,\n",
       "       4, 3, 3, 4, 3, 3, 4, 3, 3, 4, 2, 4, 3, 2, 4, 4, 3, 3, 4, 3, 4, 3,\n",
       "       4, 3, 3, 4, 3, 1, 4, 1, 3, 1, 2, 4, 3, 4, 4, 3, 2, 4, 4, 1, 4, 1,\n",
       "       2, 3, 4, 4, 2, 4, 1, 4, 2, 2, 4, 3, 3, 4, 3, 4, 2, 4, 4, 4, 3, 2,\n",
       "       4, 4, 2, 3, 1, 2, 2, 4, 4, 4, 4, 4, 4, 4, 4, 3, 4, 3, 4, 4, 4, 3,\n",
       "       2, 4, 3, 4, 2, 2, 4, 3, 3, 1, 3, 2, 3, 4, 4, 4, 3, 3, 3, 4, 2, 4,\n",
       "       3, 4, 1, 4, 4, 3, 3, 3, 4, 4, 3, 2, 3, 4, 2, 3, 1, 3, 3, 4, 4, 3,\n",
       "       4, 4, 4, 4, 2, 2, 4, 4, 4, 4, 2, 4, 3, 4, 4, 4, 3, 2, 2, 2, 4, 3,\n",
       "       4, 4, 3, 4, 2, 4, 3, 3, 2, 4, 3, 4, 3, 3, 3, 3, 2, 4, 1, 3, 4, 4,\n",
       "       4, 4, 4, 4, 2, 3, 2, 3, 3, 2, 4, 3, 1, 2, 4, 2, 3, 3, 3, 4, 4, 3,\n",
       "       3, 3, 4, 4, 4, 4, 4, 3, 2, 3, 4, 1, 2, 3, 4, 4, 4, 4, 4, 2, 2, 4,\n",
       "       3, 2, 4, 4, 4, 2, 3, 4, 2, 4, 4, 2, 3, 3, 3, 2, 3, 2, 3, 3, 3, 3,\n",
       "       1, 4, 4, 3, 4, 4, 2, 2, 4, 4, 3, 4, 2, 4, 4, 4, 4, 2, 4, 1, 1, 2,\n",
       "       4, 3, 1, 4, 4, 2, 3, 4, 3, 3, 3, 4, 1, 4, 4, 4, 4, 4, 4, 2, 3, 2,\n",
       "       3, 3, 4, 2, 2, 3, 4, 3, 2, 2, 4, 3, 4, 3, 2, 3, 2, 4, 3, 4, 3, 3,\n",
       "       1, 2, 4, 1, 3, 3, 3, 2, 2, 4, 3, 4, 4, 4, 4, 3, 4, 4, 4, 4, 3, 3,\n",
       "       3, 3, 4, 2, 3, 2, 4, 2, 2, 4, 3, 4, 3, 4, 2, 2, 1, 3, 2, 4, 4, 4,\n",
       "       3, 4, 4, 4, 3, 4, 3, 4, 4, 1, 2, 4, 2, 3, 1, 3, 4, 4, 4, 3, 4, 3,\n",
       "       4, 2, 2, 4, 4, 2, 2, 4, 4, 2, 3, 2, 4, 2, 4, 2, 3, 3, 3, 4, 1, 4,\n",
       "       4, 4, 3, 2, 2, 3, 4, 3, 2, 4, 2, 1, 3, 4, 1, 3, 3, 4, 3, 4, 2, 4,\n",
       "       4, 3, 3, 4, 4, 4, 4, 4, 2, 1, 4, 3, 1, 4, 3, 3, 4, 4, 3, 4, 4, 2,\n",
       "       4, 2, 3, 1, 2, 2, 2, 3, 4, 4, 3, 3, 4, 4, 2, 3, 1, 4, 4, 4, 3, 3,\n",
       "       3, 4, 4, 2, 3, 1, 4, 3, 2, 3, 4, 4, 4, 4, 4, 1, 4, 4, 2, 3, 4, 4,\n",
       "       4, 4, 2, 3, 3, 4, 2, 4, 1, 4, 3, 2, 4, 3, 3, 4, 4, 3, 3, 4, 2, 4,\n",
       "       3, 4, 4, 4, 2, 3, 4, 3, 4, 2, 3, 3, 4, 4, 4, 4, 2, 2, 3, 3, 4, 3,\n",
       "       3, 4, 3, 3, 1, 1, 3, 4, 3, 1, 3, 4, 4, 1, 3, 3, 4, 2, 4, 4, 3, 3,\n",
       "       2, 4, 3, 3, 4, 2, 2, 2, 3, 3, 4, 2, 4, 4, 3, 3, 4, 3, 2, 3, 4, 1,\n",
       "       3, 4, 2, 3, 2, 4, 4, 3, 4, 3, 2, 4, 3, 3, 4, 4, 3, 4, 4, 3, 2, 2,\n",
       "       1, 1, 2, 3, 1, 1, 4, 1, 3, 2, 4, 2, 3, 3, 2, 3, 4, 4, 3, 4, 1, 3,\n",
       "       1, 2, 4, 4, 3, 4, 2, 4, 4, 2, 2, 4, 4, 4, 2, 4, 3, 2, 3, 3, 3, 4,\n",
       "       3, 4, 4, 2, 4, 1, 3, 3, 4, 2, 3, 4, 4, 2, 4, 4, 3, 3, 2, 4, 3, 3,\n",
       "       1, 2, 4, 2, 4, 1, 1, 3, 4, 4])"
      ]
     },
     "execution_count": 38,
     "metadata": {},
     "output_type": "execute_result"
    }
   ],
   "source": [
    "trials = 1000\n",
    "results = np.empty([trials,],dtype=int)\n",
    "for t in range(trials):\n",
    "    draw = df.sample(1)[0].values\n",
    "    results[t] = draw\n",
    "results"
   ]
  },
  {
   "cell_type": "code",
   "execution_count": 39,
   "id": "8079895e-be35-456c-9979-8d43c96b4584",
   "metadata": {},
   "outputs": [
    {
     "data": {
      "text/plain": [
       "<matplotlib.axes._subplots.AxesSubplot at 0x7f6b896d4eb8>"
      ]
     },
     "execution_count": 39,
     "metadata": {},
     "output_type": "execute_result"
    },
    {
     "data": {
      "image/png": "[encoded data removed]",
      "text/plain": [
       "<Figure size 432x288 with 1 Axes>"
      ]
     },
     "metadata": {
      "needs_background": "light"
     },
     "output_type": "display_data"
    }
   ],
   "source": [
    "pd.DataFrame(results)[0].value_counts(normalize=True).plot(kind=\"bar\")"
   ]
  },
  {
   "cell_type": "code",
   "execution_count": null,
   "id": "ec65b1b1-e17c-4b74-96f3-4944b9e163c4",
   "metadata": {},
   "outputs": [],
   "source": [
    "Cg.set_nsamples(10)\n",
    "samples_ = Cg.samples\n",
    "print(samples_.isna().sum().sum())\n",
    "return_df = pd.DataFrame()\n",
    "\n",
    "for col in samples_.columns:\n",
    "    return_df[col] = samples_[col].sample(n=1)\n",
    "print(return_df.fillna('').astype(str)[:])"
   ]
  },
  {
   "cell_type": "code",
   "execution_count": null,
   "id": "9caacf5c-f79e-4a2f-ab07-04ac0bb76e31",
   "metadata": {},
   "outputs": [],
   "source": []
  }
 ],
 "metadata": {
  "kernelspec": {
   "display_name": "Python 3",
   "language": "python",
   "name": "python3"
  },
  "language_info": {
   "codemirror_mode": {
    "name": "ipython",
    "version": 3
   },
   "file_extension": ".py",
   "mimetype": "text/x-python",
   "name": "python",
   "nbconvert_exporter": "python",
   "pygments_lexer": "ipython3",
   "version": "3.7.0"
  }
 },
 "nbformat": 4,
 "nbformat_minor": 5
}
